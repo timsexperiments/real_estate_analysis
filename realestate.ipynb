{
 "cells": [
  {
   "cell_type": "markdown",
   "metadata": {},
   "source": [
    "# Objective\n",
    "\n",
    "Predict if a property is a good investment based on financial and physical attributes.\n",
    "\n",
    "<b>Target:</b>\n",
    "\n",
    "A binary variable indicating good (1) or bad (0) investment. Define this based on criteria such as a high rent-to-price ratio or a favorable market estimate compared to the listed price.\n"
   ]
  },
  {
   "cell_type": "code",
   "execution_count": 145,
   "metadata": {},
   "outputs": [],
   "source": [
    "import pandas as pd"
   ]
  },
  {
   "cell_type": "markdown",
   "metadata": {},
   "source": [
    "# Data exploration\n"
   ]
  },
  {
   "cell_type": "code",
   "execution_count": 186,
   "metadata": {},
   "outputs": [
    {
     "data": {
      "text/plain": [
       "State                0\n",
       "City                 0\n",
       "Street               0\n",
       "Zipcode              0\n",
       "Bedroom             14\n",
       "Bathroom            34\n",
       "Area                 0\n",
       "PPSq                 0\n",
       "LotArea            902\n",
       "MarketEstimate    7236\n",
       "RentEstimate      5976\n",
       "Latitude             0\n",
       "Longitude            0\n",
       "ListedPrice          0\n",
       "dtype: int64"
      ]
     },
     "execution_count": 186,
     "metadata": {},
     "output_type": "execute_result"
    }
   ],
   "source": [
    "real_estate_data = pd.read_csv(\"./data/real_estate_data.csv\")\n",
    "real_estate_data.describe()\n",
    "\n",
    "# Find any missing data in the dataset.\n",
    "missing_values = real_estate_data.isnull().sum()\n",
    "\n",
    "missing_values"
   ]
  },
  {
   "cell_type": "code",
   "execution_count": 187,
   "metadata": {},
   "outputs": [
    {
     "data": {
      "text/plain": [
       "(14853,\n",
       " State             0\n",
       " City              0\n",
       " Street            0\n",
       " Zipcode           0\n",
       " Bedroom           0\n",
       " Bathroom          0\n",
       " Area              0\n",
       " PPSq              0\n",
       " LotArea           0\n",
       " MarketEstimate    0\n",
       " RentEstimate      0\n",
       " Latitude          0\n",
       " Longitude         0\n",
       " ListedPrice       0\n",
       " dtype: int64)"
      ]
     },
     "execution_count": 187,
     "metadata": {},
     "output_type": "execute_result"
    }
   ],
   "source": [
    "# See how much data there is with no null values. This can help us determine if we can simply remove all of the nulls from the dataset.\n",
    "\n",
    "len(real_estate_data.dropna()), real_estate_data.dropna().isnull().sum()"
   ]
  },
  {
   "cell_type": "code",
   "execution_count": 190,
   "metadata": {},
   "outputs": [
    {
     "data": {
      "text/plain": [
       "1600.0"
      ]
     },
     "execution_count": 190,
     "metadata": {},
     "output_type": "execute_result"
    }
   ],
   "source": [
    "# Get the average difference of List to Estimate by state.\n",
    "\n",
    "no_null_market_estimate = real_estate_data[real_estate_data[\"MarketEstimate\"].notnull()]\n",
    "avg_market_minus_list = (\n",
    "    real_estate_data[\"MarketEstimate\"] - real_estate_data[\"ListedPrice\"]\n",
    ")\n",
    "\n",
    "avg_market_minus_list.median()"
   ]
  },
  {
   "cell_type": "markdown",
   "metadata": {},
   "source": [
    "# Data preprocessing\n"
   ]
  },
  {
   "cell_type": "code",
   "execution_count": 148,
   "metadata": {},
   "outputs": [
    {
     "data": {
      "text/plain": [
       "State                0\n",
       "City                 0\n",
       "Street               0\n",
       "Zipcode              0\n",
       "Bedroom              9\n",
       "Bathroom            24\n",
       "Area                 0\n",
       "PPSq                 0\n",
       "LotArea            611\n",
       "MarketEstimate    1308\n",
       "RentEstimate         0\n",
       "Latitude             0\n",
       "Longitude            0\n",
       "ListedPrice          0\n",
       "dtype: int64"
      ]
     },
     "execution_count": 148,
     "metadata": {},
     "output_type": "execute_result"
    }
   ],
   "source": [
    "# Remove all rows without a Rent Estimate as this value is vital to my analysis.\n",
    "\n",
    "real_estate_data = real_estate_data[real_estate_data[\"RentEstimate\"].notnull()]\n",
    "\n",
    "missing_values = real_estate_data.isnull().sum()\n",
    "missing_values"
   ]
  },
  {
   "cell_type": "code",
   "execution_count": 137,
   "metadata": {},
   "outputs": [
    {
     "data": {
      "text/plain": [
       "(State                           0\n",
       " City                            0\n",
       " Street                          0\n",
       " Zipcode                         0\n",
       " Bedroom                        14\n",
       " Bathroom                       34\n",
       " Area                            0\n",
       " PPSq                            0\n",
       " LotArea                       902\n",
       " MarketEstimate               7236\n",
       " RentEstimate                 5976\n",
       " Latitude                        0\n",
       " Longitude                       0\n",
       " ListedPrice                     0\n",
       " RentToPriceRatio             5976\n",
       " MarketToPriceRatio           7236\n",
       " AnnualPropertyTaxEstimate    7236\n",
       " MonthlyMortgageEstimate         0\n",
       " dtype: int64,\n",
       "   State         City             Street  Zipcode  Bedroom  Bathroom    Area  \\\n",
       " 0    AL     Saraland           Scott Dr  36571.0      4.0       2.0  1614.0   \n",
       " 1    AL  Robertsdale    Cowpen Creek Rd  36567.0      3.0       2.0  1800.0   \n",
       " 2    AL  Gulf Shores  Spinnaker Dr #201  36542.0      2.0       2.0  1250.0   \n",
       " 3    AL      Chelsea         Mallet Way  35043.0      3.0       3.0  2224.0   \n",
       " 4    AL   Huntsville     Turtlebrook Ct  35811.0      3.0       2.0  1225.0   \n",
       " \n",
       "          PPSq  LotArea  MarketEstimate  RentEstimate   Latitude  Longitude  \\\n",
       " 0  148.636927   0.3805        240600.0        1599.0  30.819534 -88.095960   \n",
       " 1  144.388889   3.2000             NaN           NaN  30.590004 -87.580376   \n",
       " 2  274.000000      NaN             NaN           NaN  30.284956 -87.747920   \n",
       " 3  150.629496   0.2600        336200.0        1932.0  33.357986 -86.608700   \n",
       " 4  204.081633      NaN        222700.0        1679.0  34.775517 -86.440700   \n",
       " \n",
       "    ListedPrice  RentToPriceRatio  MarketToPriceRatio  \\\n",
       " 0     239900.0          0.006665            1.002918   \n",
       " 1     259900.0               NaN                 NaN   \n",
       " 2     342500.0               NaN                 NaN   \n",
       " 3     335000.0          0.005767            1.003582   \n",
       " 4     250000.0          0.006716            0.890800   \n",
       " \n",
       "    AnnualPropertyTaxEstimate  MonthlyMortgageEstimate  \n",
       " 0                     986.46              1438.321710  \n",
       " 1                        NaN              1558.231815  \n",
       " 2                        NaN              2053.460549  \n",
       " 3                    1378.42              2008.494259  \n",
       " 4                     913.07              1498.876313  )"
      ]
     },
     "execution_count": 137,
     "metadata": {},
     "output_type": "execute_result"
    }
   ],
   "source": [
    "from src.const import property_tax_rates\n",
    "\n",
    "# Calculating the additional features:\n",
    "real_estate_data[\"RentToPriceRatio\"] = (\n",
    "    real_estate_data[\"RentEstimate\"] / real_estate_data[\"ListedPrice\"]\n",
    ")\n",
    "\n",
    "real_estate_data[\"MarketToPriceRatio\"] = (\n",
    "    real_estate_data[\"MarketEstimate\"] / real_estate_data[\"ListedPrice\"]\n",
    ")\n",
    "\n",
    "real_estate_data[\"AnnualPropertyTaxEstimate\"] = real_estate_data[\n",
    "    \"MarketEstimate\"\n",
    "] * real_estate_data[\"State\"].map(property_tax_rates)\n",
    "\n",
    "\n",
    "# Estimated Monthly Mortgage - assuming a 30-year fixed mortgage at 6% interest rate.\n",
    "interest_rate = 0.06 / 12\n",
    "loan_term = 30 * 12  # 30 years fixed rate loan.\n",
    "real_estate_data[\"MonthlyMortgageEstimate\"] = (\n",
    "    real_estate_data[\"ListedPrice\"] * interest_rate * (1 + interest_rate) ** loan_term\n",
    ") / ((1 + interest_rate) ** loan_term - 1)\n",
    "\n",
    "real_estate_data.head()"
   ]
  },
  {
   "cell_type": "markdown",
   "metadata": {},
   "source": [
    "# Decision Tree\n"
   ]
  },
  {
   "cell_type": "code",
   "execution_count": null,
   "metadata": {},
   "outputs": [],
   "source": []
  }
 ],
 "metadata": {
  "kernelspec": {
   "display_name": "Python 3",
   "language": "python",
   "name": "python3"
  },
  "language_info": {
   "codemirror_mode": {
    "name": "ipython",
    "version": 3
   },
   "file_extension": ".py",
   "mimetype": "text/x-python",
   "name": "python",
   "nbconvert_exporter": "python",
   "pygments_lexer": "ipython3",
   "version": "3.11.6"
  }
 },
 "nbformat": 4,
 "nbformat_minor": 2
}
