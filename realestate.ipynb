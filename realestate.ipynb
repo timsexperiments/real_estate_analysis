{
 "cells": [
  {
   "cell_type": "markdown",
   "metadata": {},
   "source": [
    "# Objective\n",
    "\n",
    "Predict if a property is a good investment based on financial and physical attributes.\n",
    "\n",
    "<b>Target:</b>\n",
    "\n",
    "A binary variable indicating good (1) or bad (0) investment. Define this based on criteria such as a high rent-to-price ratio or a favorable market estimate compared to the listed price.\n"
   ]
  },
  {
   "cell_type": "code",
   "execution_count": 255,
   "metadata": {},
   "outputs": [],
   "source": [
    "import pandas as pd"
   ]
  },
  {
   "cell_type": "markdown",
   "metadata": {},
   "source": [
    "# Data exploration\n"
   ]
  },
  {
   "cell_type": "code",
   "execution_count": 256,
   "metadata": {},
   "outputs": [
    {
     "data": {
      "text/plain": [
       "State                0\n",
       "City                 0\n",
       "Street               0\n",
       "Zipcode              0\n",
       "Bedroom             14\n",
       "Bathroom            34\n",
       "Area                 0\n",
       "PPSq                 0\n",
       "LotArea            902\n",
       "MarketEstimate    7236\n",
       "RentEstimate      5976\n",
       "Latitude             0\n",
       "Longitude            0\n",
       "ListedPrice          0\n",
       "dtype: int64"
      ]
     },
     "execution_count": 256,
     "metadata": {},
     "output_type": "execute_result"
    }
   ],
   "source": [
    "real_estate_data = pd.read_csv(\"./data/real_estate_data.csv\")\n",
    "real_estate_data.describe()\n",
    "\n",
    "# Find any missing data in the dataset.\n",
    "missing_values = real_estate_data.isnull().sum()\n",
    "\n",
    "missing_values"
   ]
  },
  {
   "cell_type": "code",
   "execution_count": 257,
   "metadata": {},
   "outputs": [
    {
     "data": {
      "text/plain": [
       "(14853,\n",
       " State             0\n",
       " City              0\n",
       " Street            0\n",
       " Zipcode           0\n",
       " Bedroom           0\n",
       " Bathroom          0\n",
       " Area              0\n",
       " PPSq              0\n",
       " LotArea           0\n",
       " MarketEstimate    0\n",
       " RentEstimate      0\n",
       " Latitude          0\n",
       " Longitude         0\n",
       " ListedPrice       0\n",
       " dtype: int64)"
      ]
     },
     "execution_count": 257,
     "metadata": {},
     "output_type": "execute_result"
    }
   ],
   "source": [
    "# See how much data there is with no null values. This can help us determine if we can simply remove all of the nulls from the dataset.\n",
    "\n",
    "len(real_estate_data.dropna()), real_estate_data.dropna().isnull().sum()"
   ]
  },
  {
   "cell_type": "code",
   "execution_count": 258,
   "metadata": {},
   "outputs": [
    {
     "data": {
      "text/plain": [
       "-1600.0"
      ]
     },
     "execution_count": 258,
     "metadata": {},
     "output_type": "execute_result"
    }
   ],
   "source": [
    "# Get the average difference of List to Estimate by state.\n",
    "\n",
    "no_null_market_estimate = real_estate_data[real_estate_data[\"MarketEstimate\"].notnull()]\n",
    "\n",
    "avg_market_minus_list = (\n",
    "    real_estate_data[\"MarketEstimate\"] - real_estate_data[\"ListedPrice\"]\n",
    ").median()\n",
    "avg_market_minus_list"
   ]
  },
  {
   "cell_type": "markdown",
   "metadata": {},
   "source": [
    "# Data preprocessing\n"
   ]
  },
  {
   "cell_type": "code",
   "execution_count": 259,
   "metadata": {},
   "outputs": [
    {
     "data": {
      "text/plain": [
       "(16705,\n",
       " State                0\n",
       " City                 0\n",
       " Street               0\n",
       " Zipcode              0\n",
       " Bedroom              9\n",
       " Bathroom            24\n",
       " Area                 0\n",
       " PPSq                 0\n",
       " LotArea            611\n",
       " MarketEstimate    1308\n",
       " RentEstimate         0\n",
       " Latitude             0\n",
       " Longitude            0\n",
       " ListedPrice          0\n",
       " dtype: int64)"
      ]
     },
     "execution_count": 259,
     "metadata": {},
     "output_type": "execute_result"
    }
   ],
   "source": [
    "# Remove all rows without a Rent Estimate as this value is vital to my analysis.\n",
    "\n",
    "real_estate_data = real_estate_data[real_estate_data[\"RentEstimate\"].notnull()]\n",
    "\n",
    "len(real_estate_data), real_estate_data.isnull().sum()"
   ]
  },
  {
   "cell_type": "code",
   "execution_count": 260,
   "metadata": {},
   "outputs": [
    {
     "data": {
      "text/plain": [
       "State               0\n",
       "City                0\n",
       "Street              0\n",
       "Zipcode             0\n",
       "Bedroom             9\n",
       "Bathroom           24\n",
       "Area                0\n",
       "PPSq                0\n",
       "LotArea           611\n",
       "MarketEstimate      0\n",
       "RentEstimate        0\n",
       "Latitude            0\n",
       "Longitude           0\n",
       "ListedPrice         0\n",
       "dtype: int64"
      ]
     },
     "execution_count": 260,
     "metadata": {},
     "output_type": "execute_result"
    }
   ],
   "source": [
    "# Update market estimates with the average difference between\n",
    "for index, row in real_estate_data.iterrows():\n",
    "    if pd.isna(row[\"MarketEstimate\"]):\n",
    "        real_estate_data.at[index, \"MarketEstimate\"] = (\n",
    "            row[\"ListedPrice\"] + avg_market_minus_list\n",
    "        )\n",
    "\n",
    "real_estate_data.isnull().sum()"
   ]
  },
  {
   "cell_type": "code",
   "execution_count": 261,
   "metadata": {},
   "outputs": [
    {
     "data": {
      "text/plain": [
       "State             0\n",
       "City              0\n",
       "Street            0\n",
       "Zipcode           0\n",
       "Bedroom           0\n",
       "Bathroom          0\n",
       "Area              0\n",
       "PPSq              0\n",
       "LotArea           0\n",
       "MarketEstimate    0\n",
       "RentEstimate      0\n",
       "Latitude          0\n",
       "Longitude         0\n",
       "ListedPrice       0\n",
       "dtype: int64"
      ]
     },
     "execution_count": 261,
     "metadata": {},
     "output_type": "execute_result"
    }
   ],
   "source": [
    "# Populate bed, bath, and lot area based on the median area for the given state.\n",
    "\n",
    "\n",
    "def get_median_for_row(row: pd.Series, df: pd.DataFrame, area_offset=200):\n",
    "    area = row[\"Area\"]\n",
    "    filtered_df = df[df[\"State\"].eq(row[\"State\"])].query(\n",
    "        f\"Area <= {area + area_offset} or Area >= {area - area_offset}\"\n",
    "    )\n",
    "    median_bed = filtered_df[\"Bedroom\"].median()\n",
    "    median_bath = filtered_df[\"Bathroom\"].median()\n",
    "    median_lot = filtered_df[\"LotArea\"].median()\n",
    "    return median_bed, median_bath, median_lot\n",
    "\n",
    "\n",
    "for index, row in real_estate_data.iterrows():\n",
    "    if pd.isna(row[\"Bedroom\"]) or pd.isna(row[\"Bathroom\"]) or pd.isna(row[\"LotArea\"]):\n",
    "        if pd.isna(row[\"Bedroom\"]):\n",
    "            median_bed, _, _ = get_median_for_row(row, real_estate_data)\n",
    "            real_estate_data.at[index, \"Bedroom\"] = median_bed\n",
    "        if pd.isna(row[\"Bathroom\"]):\n",
    "            _, median_bath, _ = get_median_for_row(row, real_estate_data)\n",
    "            real_estate_data.at[index, \"Bathroom\"] = median_bath\n",
    "        if pd.isna(row[\"LotArea\"]):\n",
    "            _, _, median_lot = get_median_for_row(row, real_estate_data)\n",
    "            real_estate_data.at[index, \"LotArea\"] = median_lot\n",
    "\n",
    "real_estate_data.isnull().sum()"
   ]
  },
  {
   "cell_type": "code",
   "execution_count": 263,
   "metadata": {},
   "outputs": [
    {
     "data": {
      "text/html": [
       "<div>\n",
       "<style scoped>\n",
       "    .dataframe tbody tr th:only-of-type {\n",
       "        vertical-align: middle;\n",
       "    }\n",
       "\n",
       "    .dataframe tbody tr th {\n",
       "        vertical-align: top;\n",
       "    }\n",
       "\n",
       "    .dataframe thead th {\n",
       "        text-align: right;\n",
       "    }\n",
       "</style>\n",
       "<table border=\"1\" class=\"dataframe\">\n",
       "  <thead>\n",
       "    <tr style=\"text-align: right;\">\n",
       "      <th></th>\n",
       "      <th>ListedPrice</th>\n",
       "      <th>MarketEstimate</th>\n",
       "      <th>RentEstimate</th>\n",
       "      <th>RentToPriceRatio</th>\n",
       "      <th>MarketToPriceRatio</th>\n",
       "      <th>AnnualPropertyTaxEstimate</th>\n",
       "      <th>MonthlyMortgageEstimate</th>\n",
       "    </tr>\n",
       "  </thead>\n",
       "  <tbody>\n",
       "    <tr>\n",
       "      <th>0</th>\n",
       "      <td>239900.0</td>\n",
       "      <td>240600.0</td>\n",
       "      <td>1599.0</td>\n",
       "      <td>0.006665</td>\n",
       "      <td>1.002918</td>\n",
       "      <td>986.46</td>\n",
       "      <td>1438.321710</td>\n",
       "    </tr>\n",
       "    <tr>\n",
       "      <th>3</th>\n",
       "      <td>335000.0</td>\n",
       "      <td>336200.0</td>\n",
       "      <td>1932.0</td>\n",
       "      <td>0.005767</td>\n",
       "      <td>1.003582</td>\n",
       "      <td>1378.42</td>\n",
       "      <td>2008.494259</td>\n",
       "    </tr>\n",
       "    <tr>\n",
       "      <th>4</th>\n",
       "      <td>250000.0</td>\n",
       "      <td>222700.0</td>\n",
       "      <td>1679.0</td>\n",
       "      <td>0.006716</td>\n",
       "      <td>0.890800</td>\n",
       "      <td>913.07</td>\n",
       "      <td>1498.876313</td>\n",
       "    </tr>\n",
       "    <tr>\n",
       "      <th>5</th>\n",
       "      <td>151000.0</td>\n",
       "      <td>150500.0</td>\n",
       "      <td>1385.0</td>\n",
       "      <td>0.009172</td>\n",
       "      <td>0.996689</td>\n",
       "      <td>617.05</td>\n",
       "      <td>905.321293</td>\n",
       "    </tr>\n",
       "    <tr>\n",
       "      <th>6</th>\n",
       "      <td>239000.0</td>\n",
       "      <td>238400.0</td>\n",
       "      <td>2125.0</td>\n",
       "      <td>0.008891</td>\n",
       "      <td>0.997490</td>\n",
       "      <td>977.44</td>\n",
       "      <td>1432.925755</td>\n",
       "    </tr>\n",
       "  </tbody>\n",
       "</table>\n",
       "</div>"
      ],
      "text/plain": [
       "   ListedPrice  MarketEstimate  RentEstimate  RentToPriceRatio  \\\n",
       "0     239900.0        240600.0        1599.0          0.006665   \n",
       "3     335000.0        336200.0        1932.0          0.005767   \n",
       "4     250000.0        222700.0        1679.0          0.006716   \n",
       "5     151000.0        150500.0        1385.0          0.009172   \n",
       "6     239000.0        238400.0        2125.0          0.008891   \n",
       "\n",
       "   MarketToPriceRatio  AnnualPropertyTaxEstimate  MonthlyMortgageEstimate  \n",
       "0            1.002918                     986.46              1438.321710  \n",
       "3            1.003582                    1378.42              2008.494259  \n",
       "4            0.890800                     913.07              1498.876313  \n",
       "5            0.996689                     617.05               905.321293  \n",
       "6            0.997490                     977.44              1432.925755  "
      ]
     },
     "execution_count": 263,
     "metadata": {},
     "output_type": "execute_result"
    }
   ],
   "source": [
    "from src.const import property_tax_rates\n",
    "\n",
    "# Calculating the additional features:\n",
    "real_estate_data[\"RentToPriceRatio\"] = (\n",
    "    real_estate_data[\"RentEstimate\"] / real_estate_data[\"ListedPrice\"]\n",
    ")\n",
    "\n",
    "real_estate_data[\"MarketToPriceRatio\"] = (\n",
    "    real_estate_data[\"MarketEstimate\"] / real_estate_data[\"ListedPrice\"]\n",
    ")\n",
    "\n",
    "real_estate_data[\"AnnualPropertyTaxEstimate\"] = real_estate_data[\n",
    "    \"MarketEstimate\"\n",
    "] * real_estate_data[\"State\"].map(property_tax_rates)\n",
    "\n",
    "\n",
    "# Estimated Monthly Mortgage - assuming a 30-year fixed mortgage at 6% interest rate.\n",
    "interest_rate = 0.06 / 12\n",
    "loan_term = 30 * 12  # 30 years fixed rate loan.\n",
    "real_estate_data[\"MonthlyMortgageEstimate\"] = (\n",
    "    real_estate_data[\"ListedPrice\"] * interest_rate * (1 + interest_rate) ** loan_term\n",
    ") / ((1 + interest_rate) ** loan_term - 1)\n",
    "\n",
    "real_estate_data[\n",
    "    [\n",
    "        \"ListedPrice\",\n",
    "        \"MarketEstimate\",\n",
    "        \"RentEstimate\",\n",
    "        \"RentToPriceRatio\",\n",
    "        \"MarketToPriceRatio\",\n",
    "        \"AnnualPropertyTaxEstimate\",\n",
    "        \"MonthlyMortgageEstimate\",\n",
    "    ]\n",
    "].head()"
   ]
  },
  {
   "cell_type": "markdown",
   "metadata": {},
   "source": [
    "# Decision Tree\n"
   ]
  },
  {
   "cell_type": "code",
   "execution_count": null,
   "metadata": {},
   "outputs": [],
   "source": []
  }
 ],
 "metadata": {
  "kernelspec": {
   "display_name": "Python 3",
   "language": "python",
   "name": "python3"
  },
  "language_info": {
   "codemirror_mode": {
    "name": "ipython",
    "version": 3
   },
   "file_extension": ".py",
   "mimetype": "text/x-python",
   "name": "python",
   "nbconvert_exporter": "python",
   "pygments_lexer": "ipython3",
   "version": "3.11.6"
  }
 },
 "nbformat": 4,
 "nbformat_minor": 2
}
