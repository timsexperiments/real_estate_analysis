{
 "cells": [
  {
   "cell_type": "markdown",
   "metadata": {},
   "source": [
    "# Objective\n",
    "\n",
    "Predict if a property is a good investment based on financial and physical attributes.\n",
    "\n",
    "<b>Target:</b>\n",
    "\n",
    "A binary variable indicating good (1) or bad (0) investment. Define this based on criteria such as a high rent-to-price ratio or a favorable market estimate compared to the listed price.\n"
   ]
  },
  {
   "cell_type": "code",
   "execution_count": 652,
   "metadata": {},
   "outputs": [],
   "source": [
    "import pandas as pd"
   ]
  },
  {
   "cell_type": "markdown",
   "metadata": {},
   "source": [
    "# Data exploration\n"
   ]
  },
  {
   "cell_type": "code",
   "execution_count": 653,
   "metadata": {},
   "outputs": [
    {
     "data": {
      "text/plain": [
       "State                0\n",
       "City                 0\n",
       "Street               0\n",
       "Zipcode              0\n",
       "Bedroom             14\n",
       "Bathroom            34\n",
       "Area                 0\n",
       "PPSq                 0\n",
       "LotArea            902\n",
       "MarketEstimate    7236\n",
       "RentEstimate      5976\n",
       "Latitude             0\n",
       "Longitude            0\n",
       "ListedPrice          0\n",
       "dtype: int64"
      ]
     },
     "execution_count": 653,
     "metadata": {},
     "output_type": "execute_result"
    }
   ],
   "source": [
    "real_estate_data = pd.read_csv(\"./data/real_estate_data.csv\")\n",
    "real_estate_data.describe()\n",
    "\n",
    "# Find any missing data in the dataset.\n",
    "missing_values = real_estate_data.isnull().sum()\n",
    "\n",
    "missing_values"
   ]
  },
  {
   "cell_type": "code",
   "execution_count": 654,
   "metadata": {},
   "outputs": [
    {
     "data": {
      "text/plain": [
       "(14853,\n",
       " State             0\n",
       " City              0\n",
       " Street            0\n",
       " Zipcode           0\n",
       " Bedroom           0\n",
       " Bathroom          0\n",
       " Area              0\n",
       " PPSq              0\n",
       " LotArea           0\n",
       " MarketEstimate    0\n",
       " RentEstimate      0\n",
       " Latitude          0\n",
       " Longitude         0\n",
       " ListedPrice       0\n",
       " dtype: int64)"
      ]
     },
     "execution_count": 654,
     "metadata": {},
     "output_type": "execute_result"
    }
   ],
   "source": [
    "# See how much data there is with no null values. This can help us determine if we can simply remove all of the nulls from the dataset.\n",
    "\n",
    "len(real_estate_data.dropna()), real_estate_data.dropna().isnull().sum()"
   ]
  },
  {
   "cell_type": "code",
   "execution_count": 655,
   "metadata": {},
   "outputs": [
    {
     "data": {
      "text/plain": [
       "-1600.0"
      ]
     },
     "execution_count": 655,
     "metadata": {},
     "output_type": "execute_result"
    }
   ],
   "source": [
    "# Get the average difference of List to Estimate by state.\n",
    "\n",
    "no_null_market_estimate = real_estate_data[real_estate_data[\"MarketEstimate\"].notnull()]\n",
    "\n",
    "avg_market_minus_list = (\n",
    "    real_estate_data[\"MarketEstimate\"] - real_estate_data[\"ListedPrice\"]\n",
    ").median()\n",
    "avg_market_minus_list"
   ]
  },
  {
   "cell_type": "markdown",
   "metadata": {},
   "source": [
    "# Data preprocessing\n"
   ]
  },
  {
   "cell_type": "code",
   "execution_count": 656,
   "metadata": {},
   "outputs": [
    {
     "data": {
      "text/plain": [
       "(16705,\n",
       " State                0\n",
       " City                 0\n",
       " Street               0\n",
       " Zipcode              0\n",
       " Bedroom              9\n",
       " Bathroom            24\n",
       " Area                 0\n",
       " PPSq                 0\n",
       " LotArea            611\n",
       " MarketEstimate    1308\n",
       " RentEstimate         0\n",
       " Latitude             0\n",
       " Longitude            0\n",
       " ListedPrice          0\n",
       " dtype: int64)"
      ]
     },
     "execution_count": 656,
     "metadata": {},
     "output_type": "execute_result"
    }
   ],
   "source": [
    "# Remove all rows without a Rent Estimate as this value is vital to my analysis.\n",
    "\n",
    "real_estate_data = real_estate_data[real_estate_data[\"RentEstimate\"].notnull()]\n",
    "\n",
    "len(real_estate_data), real_estate_data.isnull().sum()"
   ]
  },
  {
   "cell_type": "code",
   "execution_count": 657,
   "metadata": {},
   "outputs": [
    {
     "data": {
      "text/plain": [
       "State               0\n",
       "City                0\n",
       "Street              0\n",
       "Zipcode             0\n",
       "Bedroom             9\n",
       "Bathroom           24\n",
       "Area                0\n",
       "PPSq                0\n",
       "LotArea           611\n",
       "MarketEstimate      0\n",
       "RentEstimate        0\n",
       "Latitude            0\n",
       "Longitude           0\n",
       "ListedPrice         0\n",
       "dtype: int64"
      ]
     },
     "execution_count": 657,
     "metadata": {},
     "output_type": "execute_result"
    }
   ],
   "source": [
    "# Update market estimates with the average difference between\n",
    "for index, row in real_estate_data.iterrows():\n",
    "    if pd.isna(row[\"MarketEstimate\"]):\n",
    "        real_estate_data.at[index, \"MarketEstimate\"] = (\n",
    "            row[\"ListedPrice\"] + avg_market_minus_list\n",
    "        )\n",
    "\n",
    "real_estate_data.isnull().sum()"
   ]
  },
  {
   "cell_type": "code",
   "execution_count": 658,
   "metadata": {},
   "outputs": [
    {
     "data": {
      "text/plain": [
       "State             0\n",
       "City              0\n",
       "Street            0\n",
       "Zipcode           0\n",
       "Bedroom           0\n",
       "Bathroom          0\n",
       "Area              0\n",
       "PPSq              0\n",
       "LotArea           0\n",
       "MarketEstimate    0\n",
       "RentEstimate      0\n",
       "Latitude          0\n",
       "Longitude         0\n",
       "ListedPrice       0\n",
       "dtype: int64"
      ]
     },
     "execution_count": 658,
     "metadata": {},
     "output_type": "execute_result"
    }
   ],
   "source": [
    "# Populate bed, bath, and lot area based on the median area for the given state.\n",
    "\n",
    "\n",
    "def get_median_for_row(row: pd.Series, df: pd.DataFrame, area_offset=200):\n",
    "    area = row[\"Area\"]\n",
    "    filtered_df = df[df[\"State\"].eq(row[\"State\"])].query(\n",
    "        f\"Area <= {area + area_offset} or Area >= {area - area_offset}\"\n",
    "    )\n",
    "    median_bed = filtered_df[\"Bedroom\"].median()\n",
    "    median_bath = filtered_df[\"Bathroom\"].median()\n",
    "    median_lot = filtered_df[\"LotArea\"].median()\n",
    "    return median_bed, median_bath, median_lot\n",
    "\n",
    "\n",
    "for index, row in real_estate_data.iterrows():\n",
    "    if pd.isna(row[\"Bedroom\"]) or pd.isna(row[\"Bathroom\"]) or pd.isna(row[\"LotArea\"]):\n",
    "        if pd.isna(row[\"Bedroom\"]):\n",
    "            median_bed, _, _ = get_median_for_row(row, real_estate_data)\n",
    "            real_estate_data.at[index, \"Bedroom\"] = median_bed\n",
    "        if pd.isna(row[\"Bathroom\"]):\n",
    "            _, median_bath, _ = get_median_for_row(row, real_estate_data)\n",
    "            real_estate_data.at[index, \"Bathroom\"] = median_bath\n",
    "        if pd.isna(row[\"LotArea\"]):\n",
    "            _, _, median_lot = get_median_for_row(row, real_estate_data)\n",
    "            real_estate_data.at[index, \"LotArea\"] = median_lot\n",
    "\n",
    "real_estate_data.isnull().sum()"
   ]
  },
  {
   "cell_type": "code",
   "execution_count": 659,
   "metadata": {},
   "outputs": [
    {
     "data": {
      "text/plain": [
       "array(['36571', '35043', '35811', ..., '82649', '83112', '82932'],\n",
       "      dtype=object)"
      ]
     },
     "execution_count": 659,
     "metadata": {},
     "output_type": "execute_result"
    }
   ],
   "source": [
    "# Convert zipcodes to string data as the number representation does not provide much value.\n",
    "\n",
    "\n",
    "def zip_to_zip_str(numeric_zip: float):\n",
    "    rounded_zip = int(numeric_zip)\n",
    "    return str(rounded_zip).zfill(5)\n",
    "\n",
    "\n",
    "real_estate_data[\"Zipcode\"] = real_estate_data[\"Zipcode\"].apply(zip_to_zip_str)\n",
    "\n",
    "real_estate_data[\"Zipcode\"].unique()"
   ]
  },
  {
   "cell_type": "code",
   "execution_count": 660,
   "metadata": {},
   "outputs": [
    {
     "data": {
      "text/html": [
       "<div>\n",
       "<style scoped>\n",
       "    .dataframe tbody tr th:only-of-type {\n",
       "        vertical-align: middle;\n",
       "    }\n",
       "\n",
       "    .dataframe tbody tr th {\n",
       "        vertical-align: top;\n",
       "    }\n",
       "\n",
       "    .dataframe thead th {\n",
       "        text-align: right;\n",
       "    }\n",
       "</style>\n",
       "<table border=\"1\" class=\"dataframe\">\n",
       "  <thead>\n",
       "    <tr style=\"text-align: right;\">\n",
       "      <th></th>\n",
       "      <th>ListedPrice</th>\n",
       "      <th>MarketEstimate</th>\n",
       "      <th>RentEstimate</th>\n",
       "      <th>AnnualPropertyTaxEstimate</th>\n",
       "      <th>MonthlyMortgageEstimate</th>\n",
       "    </tr>\n",
       "  </thead>\n",
       "  <tbody>\n",
       "    <tr>\n",
       "      <th>0</th>\n",
       "      <td>239900.0</td>\n",
       "      <td>240600.0</td>\n",
       "      <td>1599.0</td>\n",
       "      <td>986.46</td>\n",
       "      <td>1438.321710</td>\n",
       "    </tr>\n",
       "    <tr>\n",
       "      <th>3</th>\n",
       "      <td>335000.0</td>\n",
       "      <td>336200.0</td>\n",
       "      <td>1932.0</td>\n",
       "      <td>1378.42</td>\n",
       "      <td>2008.494259</td>\n",
       "    </tr>\n",
       "    <tr>\n",
       "      <th>4</th>\n",
       "      <td>250000.0</td>\n",
       "      <td>222700.0</td>\n",
       "      <td>1679.0</td>\n",
       "      <td>913.07</td>\n",
       "      <td>1498.876313</td>\n",
       "    </tr>\n",
       "    <tr>\n",
       "      <th>5</th>\n",
       "      <td>151000.0</td>\n",
       "      <td>150500.0</td>\n",
       "      <td>1385.0</td>\n",
       "      <td>617.05</td>\n",
       "      <td>905.321293</td>\n",
       "    </tr>\n",
       "    <tr>\n",
       "      <th>6</th>\n",
       "      <td>239000.0</td>\n",
       "      <td>238400.0</td>\n",
       "      <td>2125.0</td>\n",
       "      <td>977.44</td>\n",
       "      <td>1432.925755</td>\n",
       "    </tr>\n",
       "  </tbody>\n",
       "</table>\n",
       "</div>"
      ],
      "text/plain": [
       "   ListedPrice  MarketEstimate  RentEstimate  AnnualPropertyTaxEstimate  \\\n",
       "0     239900.0        240600.0        1599.0                     986.46   \n",
       "3     335000.0        336200.0        1932.0                    1378.42   \n",
       "4     250000.0        222700.0        1679.0                     913.07   \n",
       "5     151000.0        150500.0        1385.0                     617.05   \n",
       "6     239000.0        238400.0        2125.0                     977.44   \n",
       "\n",
       "   MonthlyMortgageEstimate  \n",
       "0              1438.321710  \n",
       "3              2008.494259  \n",
       "4              1498.876313  \n",
       "5               905.321293  \n",
       "6              1432.925755  "
      ]
     },
     "execution_count": 660,
     "metadata": {},
     "output_type": "execute_result"
    }
   ],
   "source": [
    "from src.const import property_tax_rates\n",
    "\n",
    "# Calculating the additional features:\n",
    "\n",
    "real_estate_data[\"AnnualPropertyTaxEstimate\"] = real_estate_data[\n",
    "    \"MarketEstimate\"\n",
    "] * real_estate_data[\"State\"].map(property_tax_rates)\n",
    "\n",
    "\n",
    "# Estimated Monthly Mortgage - assuming a 30-year fixed mortgage at 6% interest rate.\n",
    "interest_rate = 0.06 / 12\n",
    "loan_term = 30 * 12  # 30 years fixed rate loan.\n",
    "real_estate_data[\"MonthlyMortgageEstimate\"] = (\n",
    "    real_estate_data[\"ListedPrice\"] * interest_rate * (1 + interest_rate) ** loan_term\n",
    ") / ((1 + interest_rate) ** loan_term - 1)\n",
    "\n",
    "real_estate_data[\n",
    "    [\n",
    "        \"ListedPrice\",\n",
    "        \"MarketEstimate\",\n",
    "        \"RentEstimate\",\n",
    "        \"AnnualPropertyTaxEstimate\",\n",
    "        \"MonthlyMortgageEstimate\",\n",
    "    ]\n",
    "].head()"
   ]
  },
  {
   "cell_type": "code",
   "execution_count": 661,
   "metadata": {},
   "outputs": [
    {
     "data": {
      "text/plain": [
       "(16705,\n",
       " GoodInvestment\n",
       " 0    10523\n",
       " 1     6182\n",
       " Name: count, dtype: int64)"
      ]
     },
     "execution_count": 661,
     "metadata": {},
     "output_type": "execute_result"
    }
   ],
   "source": [
    "# For this exercise I am going to populate the \"GoodInvestment\" field with 1 when the Rent price exceeds the annual cost of the home.\n",
    "\n",
    "real_estate_data[\"AnnualCost\"] = (\n",
    "    real_estate_data[\"MonthlyMortgageEstimate\"] * 12\n",
    ") + real_estate_data[\"AnnualPropertyTaxEstimate\"]\n",
    "real_estate_data[\"AnnualIncome\"] = real_estate_data[\"RentEstimate\"] * 12\n",
    "\n",
    "real_estate_data[\"GoodInvestment\"] = real_estate_data.apply(\n",
    "    lambda row: 1 if row[\"AnnualIncome\"] > row[\"AnnualCost\"] else 0, axis=1\n",
    ")\n",
    "\n",
    "len(real_estate_data), real_estate_data[\"GoodInvestment\"].value_counts()"
   ]
  },
  {
   "cell_type": "code",
   "execution_count": 662,
   "metadata": {},
   "outputs": [],
   "source": [
    "# Create function which creates testing and training data drops fields that should not be included in the analysis\n",
    "\n",
    "from sklearn.model_selection import train_test_split\n",
    "\n",
    "\n",
    "def train_test(df: pd.DataFrame):\n",
    "    X = df.drop(\n",
    "        [\n",
    "            \"GoodInvestment\",\n",
    "            \"AnnualCost\",\n",
    "            \"AnnualIncome\",\n",
    "            \"RentEstimate\",\n",
    "            \"MonthlyMortgageEstimate\",\n",
    "            \"AnnualPropertyTaxEstimate\",\n",
    "        ],\n",
    "        axis=1,\n",
    "    )\n",
    "\n",
    "    y = df[\"GoodInvestment\"]\n",
    "\n",
    "    return train_test_split(X, y, test_size=0.2, random_state=42)"
   ]
  },
  {
   "cell_type": "markdown",
   "metadata": {},
   "source": [
    "# Decision Tree\n"
   ]
  },
  {
   "cell_type": "code",
   "execution_count": 663,
   "metadata": {},
   "outputs": [
    {
     "data": {
      "text/plain": [
       "([0,\n",
       "  150000,\n",
       "  200000,\n",
       "  250000,\n",
       "  300000,\n",
       "  350000,\n",
       "  400000,\n",
       "  450000,\n",
       "  500000,\n",
       "  600000,\n",
       "  750000,\n",
       "  1000000,\n",
       "  2500000,\n",
       "  5000000,\n",
       "  10000000,\n",
       "  76000001.0],\n",
       " ['0-150k',\n",
       "  '150k-200k',\n",
       "  '200k-250k',\n",
       "  '250k-300k',\n",
       "  '300k-350k',\n",
       "  '350k-400k',\n",
       "  '400k-450k',\n",
       "  '450k-500k',\n",
       "  '500k-600k',\n",
       "  '600k-750k',\n",
       "  '750k-1m',\n",
       "  '1m-2m',\n",
       "  '2.5m-5m',\n",
       "  '5m-10m',\n",
       "  '10m+'],\n",
       " [0, 1000, 1500, 2000, 2500, 3000, 3500, 4000, 5000, 7500, 10000, 99991.0],\n",
       " ['0-1000 sqft',\n",
       "  '1000-1500 sqft',\n",
       "  '1500-2000 sqft',\n",
       "  '2000-2500 sqft',\n",
       "  '2500-3000 sqft',\n",
       "  '3000-3500 sqft',\n",
       "  '3500-4000 sqft',\n",
       "  '4000-5000 sqft',\n",
       "  '5000-7500 sqft',\n",
       "  '7500-10000 sqft',\n",
       "  '10000+ sqft'],\n",
       " [0, 0.11, 0.17, 0.23, 0.35, 0.5, 1, 1.5, 3, 10, 701.0],\n",
       " ['0-0.11 acres',\n",
       "  '0.11-0.17 acres',\n",
       "  '0.17-0.23 acres',\n",
       "  '0.23-0.35 acres',\n",
       "  '0.35-0.5 acres',\n",
       "  '0.5-1 acres',\n",
       "  '1-1.5 acres',\n",
       "  '1.5-3 acres',\n",
       "  '3-10 acres',\n",
       "  '10+ acres'],\n",
       " array([ 0.        ,  0.75      ,  1.        ,  1.10000002,  1.20000005,\n",
       "         1.5       ,  1.75      ,  2.        ,  2.0999999 ,  2.20000005,\n",
       "         2.5       ,  3.        ,  3.0999999 ,  3.5       ,  4.        ,\n",
       "         4.0999999 ,  4.5       ,  5.        ,  6.        ,  7.        ,\n",
       "         8.        ,  9.        , 10.        , 11.        , 12.        ,\n",
       "        13.        , 14.        , 17.        , 23.        , 25.        ]),\n",
       " ['0.75',\n",
       "  '1.0',\n",
       "  '1.100000023841858',\n",
       "  '1.2000000476837158',\n",
       "  '1.5',\n",
       "  '1.75',\n",
       "  '2.0',\n",
       "  '2.0999999046325684',\n",
       "  '2.200000047683716',\n",
       "  '2.5',\n",
       "  '3.0',\n",
       "  '3.0999999046325684',\n",
       "  '3.5',\n",
       "  '4.0',\n",
       "  '4.099999904632568',\n",
       "  '4.5',\n",
       "  '5.0',\n",
       "  '6.0',\n",
       "  '7.0',\n",
       "  '8.0',\n",
       "  '9.0',\n",
       "  '10.0',\n",
       "  '11.0',\n",
       "  '12.0',\n",
       "  '13.0',\n",
       "  '14.0',\n",
       "  '17.0',\n",
       "  '23.0',\n",
       "  '25.0'],\n",
       " array([ 0.,  1.,  2.,  3.,  4.,  5.,  6.,  7.,  8.,  9., 10., 11., 12.,\n",
       "        13., 16., 18.]),\n",
       " ['1.0',\n",
       "  '2.0',\n",
       "  '3.0',\n",
       "  '4.0',\n",
       "  '5.0',\n",
       "  '6.0',\n",
       "  '7.0',\n",
       "  '8.0',\n",
       "  '9.0',\n",
       "  '10.0',\n",
       "  '11.0',\n",
       "  '12.0',\n",
       "  '13.0',\n",
       "  '16.0',\n",
       "  '18.0'])"
      ]
     },
     "execution_count": 663,
     "metadata": {},
     "output_type": "execute_result"
    }
   ],
   "source": [
    "# Decisions trees sometimes perform better when continuous data data is binned. We will bin values like areas, beds, bathrooms, and prices.\n",
    "\n",
    "area_bins = [\n",
    "    0,\n",
    "    1000,\n",
    "    1500,\n",
    "    2000,\n",
    "    2500,\n",
    "    3000,\n",
    "    3500,\n",
    "    4000,\n",
    "    5000,\n",
    "    7500,\n",
    "    10000,\n",
    "    real_estate_data[\"Area\"].max() + 1,\n",
    "]\n",
    "area_labels = [\n",
    "    \"0-1000 sqft\",\n",
    "    \"1000-1500 sqft\",\n",
    "    \"1500-2000 sqft\",\n",
    "    \"2000-2500 sqft\",\n",
    "    \"2500-3000 sqft\",\n",
    "    \"3000-3500 sqft\",\n",
    "    \"3500-4000 sqft\",\n",
    "    \"4000-5000 sqft\",\n",
    "    \"5000-7500 sqft\",\n",
    "    \"7500-10000 sqft\",\n",
    "    \"10000+ sqft\",\n",
    "]\n",
    "\n",
    "price_bins = [\n",
    "    0,\n",
    "    150_000,\n",
    "    200_000,\n",
    "    250_000,\n",
    "    300_000,\n",
    "    350_000,\n",
    "    400_000,\n",
    "    450_000,\n",
    "    500_000,\n",
    "    600_000,\n",
    "    750_000,\n",
    "    1_000_000,\n",
    "    2_500_000,\n",
    "    5_000_000,\n",
    "    10_000_000,\n",
    "    real_estate_data[\"ListedPrice\"].max() + 1,\n",
    "]\n",
    "price_labels = [\n",
    "    \"0-150k\",\n",
    "    \"150k-200k\",\n",
    "    \"200k-250k\",\n",
    "    \"250k-300k\",\n",
    "    \"300k-350k\",\n",
    "    \"350k-400k\",\n",
    "    \"400k-450k\",\n",
    "    \"450k-500k\",\n",
    "    \"500k-600k\",\n",
    "    \"600k-750k\",\n",
    "    \"750k-1m\",\n",
    "    \"1m-2m\",\n",
    "    \"2.5m-5m\",\n",
    "    \"5m-10m\",\n",
    "    \"10m+\",\n",
    "]\n",
    "\n",
    "lot_bins = [\n",
    "    0,\n",
    "    0.11,\n",
    "    0.17,\n",
    "    0.23,\n",
    "    0.35,\n",
    "    0.5,\n",
    "    1,\n",
    "    1.5,\n",
    "    3,\n",
    "    10,\n",
    "    real_estate_data[\"LotArea\"].max() + 1,\n",
    "]\n",
    "lot_labels = [\n",
    "    \"0-0.11 acres\",\n",
    "    \"0.11-0.17 acres\",\n",
    "    \"0.17-0.23 acres\",\n",
    "    \"0.23-0.35 acres\",\n",
    "    \"0.35-0.5 acres\",\n",
    "    \"0.5-1 acres\",\n",
    "    \"1-1.5 acres\",\n",
    "    \"1.5-3 acres\",\n",
    "    \"3-10 acres\",\n",
    "    \"10+ acres\",\n",
    "]\n",
    "\n",
    "bed_bins = [0] + real_estate_data[\"Bathroom\"].sort_values().unique()\n",
    "bed_labels = [str(bed) for bed in bed_bins]\n",
    "bed_labels.pop(0)\n",
    "\n",
    "bath_bins = [0] + real_estate_data[\"Bedroom\"].sort_values().unique()\n",
    "bath_labels = [str(bath) for bath in bath_bins]\n",
    "bath_labels.pop(0)\n",
    "\n",
    "price_bins, price_labels, area_bins, area_labels, lot_bins, lot_labels, bed_bins, bed_labels, bath_bins, bath_labels"
   ]
  },
  {
   "cell_type": "code",
   "execution_count": 664,
   "metadata": {},
   "outputs": [],
   "source": [
    "# Dataset A: No binning at all.\n",
    "\n",
    "STRING_FIELDS = [\"State\", \"City\", \"Zipcode\", \"Street\"]\n",
    "\n",
    "data_a = pd.get_dummies(real_estate_data, columns=STRING_FIELDS)"
   ]
  },
  {
   "cell_type": "code",
   "execution_count": 665,
   "metadata": {},
   "outputs": [],
   "source": [
    "# Dataset B: Use all bins.\n",
    "\n",
    "data_b = real_estate_data.copy()\n",
    "\n",
    "data_b[\"ListedPrice_Binned\"] = pd.cut(\n",
    "    data_b[\"ListedPrice\"], bins=price_bins, labels=price_labels\n",
    ")\n",
    "data_b[\"Area_Binned\"] = pd.cut(data_b[\"Area\"], bins=area_bins, labels=area_labels)\n",
    "data_b[\"Bedroom_Binned\"] = pd.cut(data_b[\"Bedroom\"], bins=bed_bins, labels=bed_labels)\n",
    "data_b[\"Bathroom_Binned\"] = pd.cut(\n",
    "    data_b[\"Bathroom\"], bins=bath_bins, labels=bath_labels\n",
    ")\n",
    "data_b[\"LotArea_Binned\"] = pd.cut(data_b[\"LotArea\"], bins=lot_bins, labels=lot_labels)\n",
    "\n",
    "data_b = pd.get_dummies(\n",
    "    data_b.drop([\"ListedPrice\", \"Area\", \"Bathroom\", \"Bedroom\", \"LotArea\"], axis=1),\n",
    "    columns=STRING_FIELDS\n",
    "    + [\n",
    "        \"ListedPrice_Binned\",\n",
    "        \"Area_Binned\",\n",
    "        \"Bedroom_Binned\",\n",
    "        \"Bathroom_Binned\",\n",
    "        \"LotArea_Binned\",\n",
    "    ],\n",
    ")"
   ]
  },
  {
   "cell_type": "code",
   "execution_count": 666,
   "metadata": {},
   "outputs": [],
   "source": [
    "# Dataset C: Area binned only.\n",
    "\n",
    "data_c = real_estate_data.copy()\n",
    "\n",
    "data_c[\"Area_Binned\"] = pd.cut(data_c[\"Area\"], bins=area_bins, labels=area_labels)\n",
    "data_c[\"LotArea_Binned\"] = pd.cut(data_c[\"LotArea\"], bins=lot_bins, labels=lot_labels)\n",
    "\n",
    "data_c = pd.get_dummies(\n",
    "    data_c.drop([\"Area\", \"LotArea\"], axis=1),\n",
    "    columns=STRING_FIELDS + [\"Area_Binned\", \"LotArea_Binned\"],\n",
    ")"
   ]
  },
  {
   "cell_type": "code",
   "execution_count": 667,
   "metadata": {},
   "outputs": [],
   "source": [
    "# Dataset D: Only price binned.\n",
    "\n",
    "data_d = real_estate_data.copy()\n",
    "\n",
    "data_d[\"ListedPrice_Binned\"] = pd.cut(\n",
    "    data_d[\"ListedPrice\"], bins=price_bins, labels=price_labels\n",
    ")\n",
    "\n",
    "data_d = pd.get_dummies(\n",
    "    data_d.drop([\"ListedPrice\"], axis=1), columns=STRING_FIELDS + [\"ListedPrice_Binned\"]\n",
    ")"
   ]
  },
  {
   "cell_type": "code",
   "execution_count": 669,
   "metadata": {},
   "outputs": [
    {
     "name": "stdout",
     "output_type": "stream",
     "text": [
      "Dataset A accuracy: 0.8263992816521999\n",
      "Dataset B accuracy: 0.8159233762346603\n",
      "Dataset C accuracy: 0.8207123615683927\n",
      "Dataset D accuracy: 0.8159233762346603\n"
     ]
    }
   ],
   "source": [
    "import pandas as pd\n",
    "from sklearn.tree import DecisionTreeClassifier\n",
    "from sklearn.model_selection import train_test_split\n",
    "from sklearn.metrics import accuracy_score\n",
    "from concurrent.futures import ThreadPoolExecutor, as_completed\n",
    "\n",
    "# Train the decision tree on all of the datasets and compare the accuracy.\n",
    "\n",
    "\n",
    "def train_and_evaluate(data: pd.DateOffset):\n",
    "    X_train, X_test, y_train, y_test = train_test(data)\n",
    "\n",
    "    model = DecisionTreeClassifier(random_state=42)\n",
    "    model.fit(X_train, y_train)\n",
    "    y_pred = model.predict(X_test)\n",
    "    accuracy = accuracy_score(y_test, y_pred)\n",
    "    return accuracy\n",
    "\n",
    "\n",
    "(\n",
    "    f\"Dataset A accuracy: {train_and_evaluate(data_a)}\",\n",
    "    f\"Dataset B accuracy: {train_and_evaluate(data_b)}\",\n",
    "    f\"Dataset C accuracy: {train_and_evaluate(data_c)}\",\n",
    "    f\"Dataset D accuracy: {train_and_evaluate(data_d)}\",\n",
    ")"
   ]
  }
 ],
 "metadata": {
  "kernelspec": {
   "display_name": "Python 3",
   "language": "python",
   "name": "python3"
  },
  "language_info": {
   "codemirror_mode": {
    "name": "ipython",
    "version": 3
   },
   "file_extension": ".py",
   "mimetype": "text/x-python",
   "name": "python",
   "nbconvert_exporter": "python",
   "pygments_lexer": "ipython3",
   "version": "3.11.6"
  }
 },
 "nbformat": 4,
 "nbformat_minor": 2
}
