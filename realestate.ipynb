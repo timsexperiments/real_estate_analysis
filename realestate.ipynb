{
 "cells": [
  {
   "cell_type": "markdown",
   "metadata": {},
   "source": [
    "# Objective\n",
    "\n",
    "Predict if a property is a good investment based on financial and physical attributes.\n",
    "\n",
    "<b>Target:</b>\n",
    "\n",
    "A binary variable indicating good (1) or bad (0) investment. Define this based on criteria such as a high rent-to-price ratio or a favorable market estimate compared to the listed price.\n"
   ]
  },
  {
   "cell_type": "code",
   "execution_count": 2,
   "metadata": {},
   "outputs": [
    {
     "name": "stderr",
     "output_type": "stream",
     "text": [
      "/var/folders/2s/_flfl8j51hv9fqpwljdq4_zw0000gn/T/ipykernel_79155/4080736814.py:1: DeprecationWarning: \n",
      "Pyarrow will become a required dependency of pandas in the next major release of pandas (pandas 3.0),\n",
      "(to allow more performant data types, such as the Arrow string type, and better interoperability with other libraries)\n",
      "but was not found to be installed on your system.\n",
      "If this would cause problems for you,\n",
      "please provide us feedback at https://github.com/pandas-dev/pandas/issues/54466\n",
      "        \n",
      "  import pandas as pd\n"
     ]
    }
   ],
   "source": [
    "import pandas as pd"
   ]
  },
  {
   "cell_type": "markdown",
   "metadata": {},
   "source": [
    "# Data exploration\n"
   ]
  },
  {
   "cell_type": "code",
   "execution_count": 9,
   "metadata": {},
   "outputs": [
    {
     "data": {
      "text/plain": [
       "State                0\n",
       "City                 0\n",
       "Street               0\n",
       "Zipcode              0\n",
       "Bedroom             14\n",
       "Bathroom            34\n",
       "Area                 0\n",
       "PPSq                 0\n",
       "LotArea            902\n",
       "MarketEstimate    7236\n",
       "RentEstimate      5976\n",
       "Latitude             0\n",
       "Longitude            0\n",
       "ListedPrice          0\n",
       "dtype: int64"
      ]
     },
     "execution_count": 9,
     "metadata": {},
     "output_type": "execute_result"
    }
   ],
   "source": [
    "real_estate_data = pd.read_csv(\"./data/real_estate_data.csv\")\n",
    "real_estate_data.describe()\n",
    "\n",
    "# Find any missing data in the dataset.\n",
    "missing_values = real_estate_data.isnull().sum()\n",
    "\n",
    "missing_values"
   ]
  },
  {
   "cell_type": "code",
   "execution_count": 10,
   "metadata": {},
   "outputs": [
    {
     "data": {
      "text/plain": [
       "(14853,\n",
       " State             0\n",
       " City              0\n",
       " Street            0\n",
       " Zipcode           0\n",
       " Bedroom           0\n",
       " Bathroom          0\n",
       " Area              0\n",
       " PPSq              0\n",
       " LotArea           0\n",
       " MarketEstimate    0\n",
       " RentEstimate      0\n",
       " Latitude          0\n",
       " Longitude         0\n",
       " ListedPrice       0\n",
       " dtype: int64)"
      ]
     },
     "execution_count": 10,
     "metadata": {},
     "output_type": "execute_result"
    }
   ],
   "source": [
    "# See how much data there is with no null values. This can help us determine if we can simply remove all of the nulls from the dataset.\n",
    "\n",
    "len(real_estate_data.dropna()), real_estate_data.dropna().isnull().sum()"
   ]
  },
  {
   "cell_type": "code",
   "execution_count": 12,
   "metadata": {},
   "outputs": [
    {
     "data": {
      "text/plain": [
       "-1600.0"
      ]
     },
     "execution_count": 12,
     "metadata": {},
     "output_type": "execute_result"
    }
   ],
   "source": [
    "# Get the average difference of List to Estimate by state.\n",
    "\n",
    "no_null_market_estimate = real_estate_data[real_estate_data[\"MarketEstimate\"].notnull()]\n",
    "\n",
    "avg_market_minus_list = (\n",
    "    real_estate_data[\"MarketEstimate\"] - real_estate_data[\"ListedPrice\"]\n",
    ").median()\n",
    "avg_market_minus_list"
   ]
  },
  {
   "cell_type": "markdown",
   "metadata": {},
   "source": [
    "# Data preprocessing\n"
   ]
  },
  {
   "cell_type": "code",
   "execution_count": 13,
   "metadata": {},
   "outputs": [
    {
     "data": {
      "text/plain": [
       "(16705,\n",
       " State                0\n",
       " City                 0\n",
       " Street               0\n",
       " Zipcode              0\n",
       " Bedroom              9\n",
       " Bathroom            24\n",
       " Area                 0\n",
       " PPSq                 0\n",
       " LotArea            611\n",
       " MarketEstimate    1308\n",
       " RentEstimate         0\n",
       " Latitude             0\n",
       " Longitude            0\n",
       " ListedPrice          0\n",
       " dtype: int64)"
      ]
     },
     "execution_count": 13,
     "metadata": {},
     "output_type": "execute_result"
    }
   ],
   "source": [
    "# Remove all rows without a Rent Estimate as this value is vital to my analysis.\n",
    "\n",
    "real_estate_data = real_estate_data[real_estate_data[\"RentEstimate\"].notnull()]\n",
    "\n",
    "len(real_estate_data), real_estate_data.isnull().sum()"
   ]
  },
  {
   "cell_type": "code",
   "execution_count": 14,
   "metadata": {},
   "outputs": [
    {
     "data": {
      "text/plain": [
       "State               0\n",
       "City                0\n",
       "Street              0\n",
       "Zipcode             0\n",
       "Bedroom             9\n",
       "Bathroom           24\n",
       "Area                0\n",
       "PPSq                0\n",
       "LotArea           611\n",
       "MarketEstimate      0\n",
       "RentEstimate        0\n",
       "Latitude            0\n",
       "Longitude           0\n",
       "ListedPrice         0\n",
       "dtype: int64"
      ]
     },
     "execution_count": 14,
     "metadata": {},
     "output_type": "execute_result"
    }
   ],
   "source": [
    "# Update market estimates with the average difference between\n",
    "for index, row in real_estate_data.iterrows():\n",
    "    if pd.isna(row[\"MarketEstimate\"]):\n",
    "        real_estate_data.at[index, \"MarketEstimate\"] = (\n",
    "            row[\"ListedPrice\"] + avg_market_minus_list\n",
    "        )\n",
    "\n",
    "real_estate_data.isnull().sum()"
   ]
  },
  {
   "cell_type": "code",
   "execution_count": 15,
   "metadata": {},
   "outputs": [
    {
     "data": {
      "text/plain": [
       "State             0\n",
       "City              0\n",
       "Street            0\n",
       "Zipcode           0\n",
       "Bedroom           0\n",
       "Bathroom          0\n",
       "Area              0\n",
       "PPSq              0\n",
       "LotArea           0\n",
       "MarketEstimate    0\n",
       "RentEstimate      0\n",
       "Latitude          0\n",
       "Longitude         0\n",
       "ListedPrice       0\n",
       "dtype: int64"
      ]
     },
     "execution_count": 15,
     "metadata": {},
     "output_type": "execute_result"
    }
   ],
   "source": [
    "# Populate bed, bath, and lot area based on the median area for the given state.\n",
    "\n",
    "\n",
    "def get_median_for_row(row: pd.Series, df: pd.DataFrame, area_offset=200):\n",
    "    area = row[\"Area\"]\n",
    "    filtered_df = df[df[\"State\"].eq(row[\"State\"])].query(\n",
    "        f\"Area <= {area + area_offset} or Area >= {area - area_offset}\"\n",
    "    )\n",
    "    median_bed = filtered_df[\"Bedroom\"].median()\n",
    "    median_bath = filtered_df[\"Bathroom\"].median()\n",
    "    median_lot = filtered_df[\"LotArea\"].median()\n",
    "    return median_bed, median_bath, median_lot\n",
    "\n",
    "\n",
    "for index, row in real_estate_data.iterrows():\n",
    "    if pd.isna(row[\"Bedroom\"]) or pd.isna(row[\"Bathroom\"]) or pd.isna(row[\"LotArea\"]):\n",
    "        if pd.isna(row[\"Bedroom\"]):\n",
    "            median_bed, _, _ = get_median_for_row(row, real_estate_data)\n",
    "            real_estate_data.at[index, \"Bedroom\"] = median_bed\n",
    "        if pd.isna(row[\"Bathroom\"]):\n",
    "            _, median_bath, _ = get_median_for_row(row, real_estate_data)\n",
    "            real_estate_data.at[index, \"Bathroom\"] = median_bath\n",
    "        if pd.isna(row[\"LotArea\"]):\n",
    "            _, _, median_lot = get_median_for_row(row, real_estate_data)\n",
    "            real_estate_data.at[index, \"LotArea\"] = median_lot\n",
    "\n",
    "real_estate_data.isnull().sum()"
   ]
  },
  {
   "cell_type": "code",
   "execution_count": 17,
   "metadata": {},
   "outputs": [
    {
     "data": {
      "text/plain": [
       "array(['36571', '35043', '35811', ..., '82649', '83112', '82932'],\n",
       "      dtype=object)"
      ]
     },
     "execution_count": 17,
     "metadata": {},
     "output_type": "execute_result"
    }
   ],
   "source": [
    "# Convert zipcodes to string data as the number representation does not provide much value.\n",
    "\n",
    "\n",
    "def zip_to_zip_str(numeric_zip: float):\n",
    "    rounded_zip = int(numeric_zip)\n",
    "    return str(rounded_zip).zfill(5)\n",
    "\n",
    "\n",
    "real_estate_data[\"Zipcode\"] = real_estate_data[\"Zipcode\"].apply(zip_to_zip_str)\n",
    "\n",
    "real_estate_data[\"Zipcode\"].unique()"
   ]
  },
  {
   "cell_type": "code",
   "execution_count": 18,
   "metadata": {},
   "outputs": [
    {
     "data": {
      "text/html": [
       "<div>\n",
       "<style scoped>\n",
       "    .dataframe tbody tr th:only-of-type {\n",
       "        vertical-align: middle;\n",
       "    }\n",
       "\n",
       "    .dataframe tbody tr th {\n",
       "        vertical-align: top;\n",
       "    }\n",
       "\n",
       "    .dataframe thead th {\n",
       "        text-align: right;\n",
       "    }\n",
       "</style>\n",
       "<table border=\"1\" class=\"dataframe\">\n",
       "  <thead>\n",
       "    <tr style=\"text-align: right;\">\n",
       "      <th></th>\n",
       "      <th>ListedPrice</th>\n",
       "      <th>MarketEstimate</th>\n",
       "      <th>RentEstimate</th>\n",
       "      <th>AnnualPropertyTaxEstimate</th>\n",
       "      <th>MonthlyMortgageEstimate</th>\n",
       "    </tr>\n",
       "  </thead>\n",
       "  <tbody>\n",
       "    <tr>\n",
       "      <th>0</th>\n",
       "      <td>239900.0</td>\n",
       "      <td>240600.0</td>\n",
       "      <td>1599.0</td>\n",
       "      <td>986.46</td>\n",
       "      <td>1438.321710</td>\n",
       "    </tr>\n",
       "    <tr>\n",
       "      <th>3</th>\n",
       "      <td>335000.0</td>\n",
       "      <td>336200.0</td>\n",
       "      <td>1932.0</td>\n",
       "      <td>1378.42</td>\n",
       "      <td>2008.494259</td>\n",
       "    </tr>\n",
       "    <tr>\n",
       "      <th>4</th>\n",
       "      <td>250000.0</td>\n",
       "      <td>222700.0</td>\n",
       "      <td>1679.0</td>\n",
       "      <td>913.07</td>\n",
       "      <td>1498.876313</td>\n",
       "    </tr>\n",
       "    <tr>\n",
       "      <th>5</th>\n",
       "      <td>151000.0</td>\n",
       "      <td>150500.0</td>\n",
       "      <td>1385.0</td>\n",
       "      <td>617.05</td>\n",
       "      <td>905.321293</td>\n",
       "    </tr>\n",
       "    <tr>\n",
       "      <th>6</th>\n",
       "      <td>239000.0</td>\n",
       "      <td>238400.0</td>\n",
       "      <td>2125.0</td>\n",
       "      <td>977.44</td>\n",
       "      <td>1432.925755</td>\n",
       "    </tr>\n",
       "  </tbody>\n",
       "</table>\n",
       "</div>"
      ],
      "text/plain": [
       "   ListedPrice  MarketEstimate  RentEstimate  AnnualPropertyTaxEstimate  \\\n",
       "0     239900.0        240600.0        1599.0                     986.46   \n",
       "3     335000.0        336200.0        1932.0                    1378.42   \n",
       "4     250000.0        222700.0        1679.0                     913.07   \n",
       "5     151000.0        150500.0        1385.0                     617.05   \n",
       "6     239000.0        238400.0        2125.0                     977.44   \n",
       "\n",
       "   MonthlyMortgageEstimate  \n",
       "0              1438.321710  \n",
       "3              2008.494259  \n",
       "4              1498.876313  \n",
       "5               905.321293  \n",
       "6              1432.925755  "
      ]
     },
     "execution_count": 18,
     "metadata": {},
     "output_type": "execute_result"
    }
   ],
   "source": [
    "from src.const import property_tax_rates\n",
    "\n",
    "# Calculating the additional features:\n",
    "\n",
    "real_estate_data[\"AnnualPropertyTaxEstimate\"] = real_estate_data[\n",
    "    \"MarketEstimate\"\n",
    "] * real_estate_data[\"State\"].map(property_tax_rates)\n",
    "\n",
    "\n",
    "# Estimated Monthly Mortgage - assuming a 30-year fixed mortgage at 6% interest rate.\n",
    "interest_rate = 0.06 / 12\n",
    "loan_term = 30 * 12  # 30 years fixed rate loan.\n",
    "real_estate_data[\"MonthlyMortgageEstimate\"] = (\n",
    "    real_estate_data[\"ListedPrice\"] * interest_rate * (1 + interest_rate) ** loan_term\n",
    ") / ((1 + interest_rate) ** loan_term - 1)\n",
    "\n",
    "real_estate_data[\n",
    "    [\n",
    "        \"ListedPrice\",\n",
    "        \"MarketEstimate\",\n",
    "        \"RentEstimate\",\n",
    "        \"AnnualPropertyTaxEstimate\",\n",
    "        \"MonthlyMortgageEstimate\",\n",
    "    ]\n",
    "].head()"
   ]
  },
  {
   "cell_type": "code",
   "execution_count": 19,
   "metadata": {},
   "outputs": [
    {
     "data": {
      "text/plain": [
       "(16705,\n",
       " GoodInvestment\n",
       " 0    10523\n",
       " 1     6182\n",
       " Name: count, dtype: int64)"
      ]
     },
     "execution_count": 19,
     "metadata": {},
     "output_type": "execute_result"
    }
   ],
   "source": [
    "# For this exercise I am going to populate the \"GoodInvestment\" field with 1 when the Rent price exceeds the annual cost of the home.\n",
    "\n",
    "real_estate_data[\"AnnualCost\"] = (\n",
    "    real_estate_data[\"MonthlyMortgageEstimate\"] * 12\n",
    ") + real_estate_data[\"AnnualPropertyTaxEstimate\"]\n",
    "real_estate_data[\"AnnualIncome\"] = real_estate_data[\"RentEstimate\"] * 12\n",
    "\n",
    "real_estate_data[\"GoodInvestment\"] = real_estate_data.apply(\n",
    "    lambda row: 1 if row[\"AnnualIncome\"] > row[\"AnnualCost\"] else 0, axis=1\n",
    ")\n",
    "\n",
    "len(real_estate_data), real_estate_data[\"GoodInvestment\"].value_counts()"
   ]
  },
  {
   "cell_type": "code",
   "execution_count": 30,
   "metadata": {},
   "outputs": [],
   "source": [
    "# Create function which creates testing and training data drops fields that should not be included in the analysis\n",
    "\n",
    "from sklearn.model_selection import train_test_split\n",
    "\n",
    "DEFAULT_DROP_FIELDS = [\n",
    "    \"GoodInvestment\",\n",
    "    \"AnnualCost\",\n",
    "    \"AnnualIncome\",\n",
    "    \"RentEstimate\",\n",
    "    \"MonthlyMortgageEstimate\",\n",
    "    \"AnnualPropertyTaxEstimate\",\n",
    "]\n",
    "\n",
    "\n",
    "def train_test(\n",
    "    df: pd.DataFrame,\n",
    "    drop_fields=DEFAULT_DROP_FIELDS,\n",
    "):\n",
    "    if drop_fields is None:\n",
    "        drop_fields = DEFAULT_DROP_FIELDS\n",
    "\n",
    "    X = df.drop(drop_fields, axis=1)\n",
    "\n",
    "    y = df[\"GoodInvestment\"]\n",
    "\n",
    "    return train_test_split(X, y, test_size=0.2, random_state=42)"
   ]
  },
  {
   "cell_type": "markdown",
   "metadata": {},
   "source": [
    "# Decision Tree\n"
   ]
  },
  {
   "cell_type": "code",
   "execution_count": 22,
   "metadata": {},
   "outputs": [
    {
     "data": {
      "text/plain": [
       "([0,\n",
       "  150000,\n",
       "  200000,\n",
       "  250000,\n",
       "  300000,\n",
       "  350000,\n",
       "  400000,\n",
       "  450000,\n",
       "  500000,\n",
       "  600000,\n",
       "  750000,\n",
       "  1000000,\n",
       "  2500000,\n",
       "  5000000,\n",
       "  10000000,\n",
       "  76000001.0],\n",
       " ['0-150k',\n",
       "  '150k-200k',\n",
       "  '200k-250k',\n",
       "  '250k-300k',\n",
       "  '300k-350k',\n",
       "  '350k-400k',\n",
       "  '400k-450k',\n",
       "  '450k-500k',\n",
       "  '500k-600k',\n",
       "  '600k-750k',\n",
       "  '750k-1m',\n",
       "  '1m-2m',\n",
       "  '2.5m-5m',\n",
       "  '5m-10m',\n",
       "  '10m+'],\n",
       " [0, 1000, 1500, 2000, 2500, 3000, 3500, 4000, 5000, 7500, 10000, 99991.0],\n",
       " ['0-1000 sqft',\n",
       "  '1000-1500 sqft',\n",
       "  '1500-2000 sqft',\n",
       "  '2000-2500 sqft',\n",
       "  '2500-3000 sqft',\n",
       "  '3000-3500 sqft',\n",
       "  '3500-4000 sqft',\n",
       "  '4000-5000 sqft',\n",
       "  '5000-7500 sqft',\n",
       "  '7500-10000 sqft',\n",
       "  '10000+ sqft'],\n",
       " [0, 0.11, 0.17, 0.23, 0.35, 0.5, 1, 1.5, 3, 10, 701.0],\n",
       " ['0-0.11 acres',\n",
       "  '0.11-0.17 acres',\n",
       "  '0.17-0.23 acres',\n",
       "  '0.23-0.35 acres',\n",
       "  '0.35-0.5 acres',\n",
       "  '0.5-1 acres',\n",
       "  '1-1.5 acres',\n",
       "  '1.5-3 acres',\n",
       "  '3-10 acres',\n",
       "  '10+ acres'],\n",
       " array([ 0.        ,  0.75      ,  1.        ,  1.10000002,  1.20000005,\n",
       "         1.5       ,  1.75      ,  2.        ,  2.0999999 ,  2.20000005,\n",
       "         2.5       ,  3.        ,  3.0999999 ,  3.5       ,  4.        ,\n",
       "         4.0999999 ,  4.5       ,  5.        ,  6.        ,  7.        ,\n",
       "         8.        ,  9.        , 10.        , 11.        , 12.        ,\n",
       "        13.        , 14.        , 17.        , 23.        , 25.        ]),\n",
       " ['0.75',\n",
       "  '1.0',\n",
       "  '1.100000023841858',\n",
       "  '1.2000000476837158',\n",
       "  '1.5',\n",
       "  '1.75',\n",
       "  '2.0',\n",
       "  '2.0999999046325684',\n",
       "  '2.200000047683716',\n",
       "  '2.5',\n",
       "  '3.0',\n",
       "  '3.0999999046325684',\n",
       "  '3.5',\n",
       "  '4.0',\n",
       "  '4.099999904632568',\n",
       "  '4.5',\n",
       "  '5.0',\n",
       "  '6.0',\n",
       "  '7.0',\n",
       "  '8.0',\n",
       "  '9.0',\n",
       "  '10.0',\n",
       "  '11.0',\n",
       "  '12.0',\n",
       "  '13.0',\n",
       "  '14.0',\n",
       "  '17.0',\n",
       "  '23.0',\n",
       "  '25.0'],\n",
       " array([ 0.,  1.,  2.,  3.,  4.,  5.,  6.,  7.,  8.,  9., 10., 11., 12.,\n",
       "        13., 16., 18.]),\n",
       " ['1.0',\n",
       "  '2.0',\n",
       "  '3.0',\n",
       "  '4.0',\n",
       "  '5.0',\n",
       "  '6.0',\n",
       "  '7.0',\n",
       "  '8.0',\n",
       "  '9.0',\n",
       "  '10.0',\n",
       "  '11.0',\n",
       "  '12.0',\n",
       "  '13.0',\n",
       "  '16.0',\n",
       "  '18.0'])"
      ]
     },
     "execution_count": 22,
     "metadata": {},
     "output_type": "execute_result"
    }
   ],
   "source": [
    "# Decisions trees sometimes perform better when continuous data data is binned. We will bin values like areas, beds, bathrooms, and prices.\n",
    "\n",
    "area_bins = [\n",
    "    0,\n",
    "    1000,\n",
    "    1500,\n",
    "    2000,\n",
    "    2500,\n",
    "    3000,\n",
    "    3500,\n",
    "    4000,\n",
    "    5000,\n",
    "    7500,\n",
    "    10000,\n",
    "    real_estate_data[\"Area\"].max() + 1,\n",
    "]\n",
    "area_labels = [\n",
    "    \"0-1000 sqft\",\n",
    "    \"1000-1500 sqft\",\n",
    "    \"1500-2000 sqft\",\n",
    "    \"2000-2500 sqft\",\n",
    "    \"2500-3000 sqft\",\n",
    "    \"3000-3500 sqft\",\n",
    "    \"3500-4000 sqft\",\n",
    "    \"4000-5000 sqft\",\n",
    "    \"5000-7500 sqft\",\n",
    "    \"7500-10000 sqft\",\n",
    "    \"10000+ sqft\",\n",
    "]\n",
    "\n",
    "price_bins = [\n",
    "    0,\n",
    "    150_000,\n",
    "    200_000,\n",
    "    250_000,\n",
    "    300_000,\n",
    "    350_000,\n",
    "    400_000,\n",
    "    450_000,\n",
    "    500_000,\n",
    "    600_000,\n",
    "    750_000,\n",
    "    1_000_000,\n",
    "    2_500_000,\n",
    "    5_000_000,\n",
    "    10_000_000,\n",
    "    real_estate_data[\"ListedPrice\"].max() + 1,\n",
    "]\n",
    "price_labels = [\n",
    "    \"0-150k\",\n",
    "    \"150k-200k\",\n",
    "    \"200k-250k\",\n",
    "    \"250k-300k\",\n",
    "    \"300k-350k\",\n",
    "    \"350k-400k\",\n",
    "    \"400k-450k\",\n",
    "    \"450k-500k\",\n",
    "    \"500k-600k\",\n",
    "    \"600k-750k\",\n",
    "    \"750k-1m\",\n",
    "    \"1m-2m\",\n",
    "    \"2.5m-5m\",\n",
    "    \"5m-10m\",\n",
    "    \"10m+\",\n",
    "]\n",
    "\n",
    "lot_bins = [\n",
    "    0,\n",
    "    0.11,\n",
    "    0.17,\n",
    "    0.23,\n",
    "    0.35,\n",
    "    0.5,\n",
    "    1,\n",
    "    1.5,\n",
    "    3,\n",
    "    10,\n",
    "    real_estate_data[\"LotArea\"].max() + 1,\n",
    "]\n",
    "lot_labels = [\n",
    "    \"0-0.11 acres\",\n",
    "    \"0.11-0.17 acres\",\n",
    "    \"0.17-0.23 acres\",\n",
    "    \"0.23-0.35 acres\",\n",
    "    \"0.35-0.5 acres\",\n",
    "    \"0.5-1 acres\",\n",
    "    \"1-1.5 acres\",\n",
    "    \"1.5-3 acres\",\n",
    "    \"3-10 acres\",\n",
    "    \"10+ acres\",\n",
    "]\n",
    "\n",
    "bed_bins = [0] + real_estate_data[\"Bathroom\"].sort_values().unique()\n",
    "bed_labels = [str(bed) for bed in bed_bins]\n",
    "bed_labels.pop(0)\n",
    "\n",
    "bath_bins = [0] + real_estate_data[\"Bedroom\"].sort_values().unique()\n",
    "bath_labels = [str(bath) for bath in bath_bins]\n",
    "bath_labels.pop(0)\n",
    "\n",
    "price_bins, price_labels, area_bins, area_labels, lot_bins, lot_labels, bed_bins, bed_labels, bath_bins, bath_labels"
   ]
  },
  {
   "cell_type": "markdown",
   "metadata": {},
   "source": [
    "### Create the dataset\n"
   ]
  },
  {
   "cell_type": "code",
   "execution_count": 23,
   "metadata": {},
   "outputs": [],
   "source": [
    "# Dataset A: No binning at all.\n",
    "\n",
    "STRING_FIELDS = [\"State\", \"City\", \"Zipcode\", \"Street\"]\n",
    "\n",
    "data_encoded = pd.get_dummies(real_estate_data, columns=STRING_FIELDS)"
   ]
  },
  {
   "cell_type": "code",
   "execution_count": 24,
   "metadata": {},
   "outputs": [],
   "source": [
    "# Dataset B: Use all bins.\n",
    "\n",
    "data_b = real_estate_data.copy()\n",
    "\n",
    "data_b[\"ListedPrice_Binned\"] = pd.cut(\n",
    "    data_b[\"ListedPrice\"], bins=price_bins, labels=price_labels\n",
    ")\n",
    "data_b[\"Area_Binned\"] = pd.cut(data_b[\"Area\"], bins=area_bins, labels=area_labels)\n",
    "data_b[\"Bedroom_Binned\"] = pd.cut(data_b[\"Bedroom\"], bins=bed_bins, labels=bed_labels)\n",
    "data_b[\"Bathroom_Binned\"] = pd.cut(\n",
    "    data_b[\"Bathroom\"], bins=bath_bins, labels=bath_labels\n",
    ")\n",
    "data_b[\"LotArea_Binned\"] = pd.cut(data_b[\"LotArea\"], bins=lot_bins, labels=lot_labels)\n",
    "\n",
    "data_b = pd.get_dummies(\n",
    "    data_b.drop([\"ListedPrice\", \"Area\", \"Bathroom\", \"Bedroom\", \"LotArea\"], axis=1),\n",
    "    columns=STRING_FIELDS\n",
    "    + [\n",
    "        \"ListedPrice_Binned\",\n",
    "        \"Area_Binned\",\n",
    "        \"Bedroom_Binned\",\n",
    "        \"Bathroom_Binned\",\n",
    "        \"LotArea_Binned\",\n",
    "    ],\n",
    ")"
   ]
  },
  {
   "cell_type": "code",
   "execution_count": 25,
   "metadata": {},
   "outputs": [],
   "source": [
    "# Dataset C: Area binned only.\n",
    "\n",
    "data_c = real_estate_data.copy()\n",
    "\n",
    "data_c[\"Area_Binned\"] = pd.cut(data_c[\"Area\"], bins=area_bins, labels=area_labels)\n",
    "data_c[\"LotArea_Binned\"] = pd.cut(data_c[\"LotArea\"], bins=lot_bins, labels=lot_labels)\n",
    "\n",
    "data_c = pd.get_dummies(\n",
    "    data_c.drop([\"Area\", \"LotArea\"], axis=1),\n",
    "    columns=STRING_FIELDS + [\"Area_Binned\", \"LotArea_Binned\"],\n",
    ")"
   ]
  },
  {
   "cell_type": "code",
   "execution_count": 26,
   "metadata": {},
   "outputs": [],
   "source": [
    "# Dataset D: Only price binned.\n",
    "\n",
    "data_d = real_estate_data.copy()\n",
    "\n",
    "data_d[\"ListedPrice_Binned\"] = pd.cut(\n",
    "    data_d[\"ListedPrice\"], bins=price_bins, labels=price_labels\n",
    ")\n",
    "\n",
    "data_d = pd.get_dummies(\n",
    "    data_d.drop([\"ListedPrice\"], axis=1), columns=STRING_FIELDS + [\"ListedPrice_Binned\"]\n",
    ")"
   ]
  },
  {
   "cell_type": "markdown",
   "metadata": {},
   "source": [
    "### Train the models with the gini index as the splitting criteria\n"
   ]
  },
  {
   "cell_type": "code",
   "execution_count": 27,
   "metadata": {},
   "outputs": [
    {
     "data": {
      "text/plain": [
       "('Dataset A accuracy: 0.8263992816521999',\n",
       " 'Dataset B accuracy: 0.8159233762346603',\n",
       " 'Dataset C accuracy: 0.8207123615683927',\n",
       " 'Dataset D accuracy: 0.8159233762346603')"
      ]
     },
     "execution_count": 27,
     "metadata": {},
     "output_type": "execute_result"
    }
   ],
   "source": [
    "from typing import Literal\n",
    "import pandas as pd\n",
    "from sklearn.tree import DecisionTreeClassifier\n",
    "from sklearn.metrics import accuracy_score\n",
    "from concurrent.futures import ThreadPoolExecutor, as_completed\n",
    "\n",
    "# Train the decision tree on all of the datasets and compare the accuracy.\n",
    "\n",
    "\n",
    "def train_and_evaluate(\n",
    "    data: pd.DateOffset,\n",
    "    drop_fields=None,\n",
    "    criterion: Literal[\"gini\", \"entropy\", \"log_loss\"] = \"gini\",\n",
    "):\n",
    "    X_train, X_test, y_train, y_test = train_test(data, drop_fields=drop_fields)\n",
    "\n",
    "    model = DecisionTreeClassifier(criterion=criterion, random_state=42)\n",
    "    model.fit(X_train, y_train)\n",
    "    y_pred = model.predict(X_test)\n",
    "    accuracy = accuracy_score(y_test, y_pred)\n",
    "    return accuracy\n",
    "\n",
    "\n",
    "(\n",
    "    f\"Dataset A accuracy: {train_and_evaluate(data_encoded)}\",\n",
    "    f\"Dataset B accuracy: {train_and_evaluate(data_b)}\",\n",
    "    f\"Dataset C accuracy: {train_and_evaluate(data_c)}\",\n",
    "    f\"Dataset D accuracy: {train_and_evaluate(data_d)}\",\n",
    ")"
   ]
  },
  {
   "cell_type": "markdown",
   "metadata": {},
   "source": [
    "### Train the models with information gain as the splitting criteria\n"
   ]
  },
  {
   "cell_type": "code",
   "execution_count": 28,
   "metadata": {},
   "outputs": [
    {
     "data": {
      "text/plain": [
       "('Dataset A accuracy: 0.8045495360670458',\n",
       " 'Dataset B accuracy: 0.8042502244836875',\n",
       " 'Dataset C accuracy: 0.8075426519006286',\n",
       " 'Dataset D accuracy: 0.798263992816522')"
      ]
     },
     "execution_count": 28,
     "metadata": {},
     "output_type": "execute_result"
    }
   ],
   "source": [
    "(\n",
    "    f\"Dataset A accuracy: {train_and_evaluate(data_encoded, criterion='entropy')}\",\n",
    "    f\"Dataset B accuracy: {train_and_evaluate(data_b, criterion='entropy')}\",\n",
    "    f\"Dataset C accuracy: {train_and_evaluate(data_c, criterion='entropy')}\",\n",
    "    f\"Dataset D accuracy: {train_and_evaluate(data_d, criterion='entropy')}\",\n",
    ")"
   ]
  },
  {
   "cell_type": "markdown",
   "metadata": {},
   "source": [
    "### Try removing some features to see if they are causing \"noise\" to the model. Use gini because it performed the best.\n"
   ]
  },
  {
   "cell_type": "code",
   "execution_count": 39,
   "metadata": {},
   "outputs": [
    {
     "data": {
      "text/plain": [
       "'Accuracy without long and lat: 0.789583956899132'"
      ]
     },
     "execution_count": 39,
     "metadata": {},
     "output_type": "execute_result"
    }
   ],
   "source": [
    "without_any_string_fields = real_estate_data.drop(\n",
    "    [\"State\", \"City\", \"Zipcode\", \"Street\"], axis=1\n",
    ")\n",
    "\n",
    "f\"Accuracy without long and lat: {train_and_evaluate(without_any_string_fields)}\""
   ]
  },
  {
   "cell_type": "code",
   "execution_count": 40,
   "metadata": {},
   "outputs": [
    {
     "data": {
      "text/plain": [
       "'Accuracy without street: 0.8231068542352589'"
      ]
     },
     "execution_count": 40,
     "metadata": {},
     "output_type": "execute_result"
    }
   ],
   "source": [
    "without_zip_code = pd.get_dummies(\n",
    "    real_estate_data.drop([\"Zipcode\"], axis=1),\n",
    "    columns=[\"State\", \"City\", \"Street\"],\n",
    ")\n",
    "\n",
    "f\"Accuracy without street: {train_and_evaluate(without_zip_code)}\""
   ]
  },
  {
   "cell_type": "code",
   "execution_count": 41,
   "metadata": {},
   "outputs": [
    {
     "data": {
      "text/plain": [
       "'Accuracy without street and zipcode: 0.8192158036516013'"
      ]
     },
     "execution_count": 41,
     "metadata": {},
     "output_type": "execute_result"
    }
   ],
   "source": [
    "without_street = pd.get_dummies(\n",
    "    real_estate_data.drop([\"Street\", \"Zipcode\"], axis=1),\n",
    "    columns=[\"State\", \"City\"],\n",
    ")\n",
    "\n",
    "f\"Accuracy without street and zipcode: {train_and_evaluate(without_street)}\""
   ]
  },
  {
   "cell_type": "code",
   "execution_count": 42,
   "metadata": {},
   "outputs": [
    {
     "data": {
      "text/plain": [
       "'Accuracy without zipcode: 0.8120323256510027'"
      ]
     },
     "execution_count": 42,
     "metadata": {},
     "output_type": "execute_result"
    }
   ],
   "source": [
    "without_street_and_zipcode = pd.get_dummies(\n",
    "    real_estate_data.drop([\"Street\"], axis=1),\n",
    "    columns=[\"State\", \"City\"],\n",
    ")\n",
    "\n",
    "f\"Accuracy without zipcode: {train_and_evaluate(without_street_and_zipcode)}\""
   ]
  },
  {
   "cell_type": "code",
   "execution_count": 43,
   "metadata": {},
   "outputs": [
    {
     "data": {
      "text/plain": [
       "'Accuracy without long and lat: 0.8030529781502544'"
      ]
     },
     "execution_count": 43,
     "metadata": {},
     "output_type": "execute_result"
    }
   ],
   "source": [
    "without_logitude_and_latitude = data_encoded.drop([\"Longitude\", \"Latitude\"], axis=1)\n",
    "\n",
    "f\"Accuracy without long and lat: {train_and_evaluate(without_logitude_and_latitude)}\""
   ]
  },
  {
   "cell_type": "markdown",
   "metadata": {},
   "source": [
    "### See if the decision tree model can find my formula if the rent price is included.\n"
   ]
  },
  {
   "cell_type": "code",
   "execution_count": 44,
   "metadata": {},
   "outputs": [
    {
     "data": {
      "text/plain": [
       "'Dataset a but with rent estimate: 0.9401376833283448'"
      ]
     },
     "execution_count": 44,
     "metadata": {},
     "output_type": "execute_result"
    }
   ],
   "source": [
    "f\"Dataset a but with rent estimate: {train_and_evaluate(data_encoded, drop_fields=['GoodInvestment','AnnualCost','AnnualIncome','MonthlyMortgageEstimate','AnnualPropertyTaxEstimate',])}\""
   ]
  },
  {
   "cell_type": "code",
   "execution_count": 45,
   "metadata": {},
   "outputs": [
    {
     "data": {
      "text/plain": [
       "'Dataset a but with all fields (except the test field): 0.9796468123316372'"
      ]
     },
     "execution_count": 45,
     "metadata": {},
     "output_type": "execute_result"
    }
   ],
   "source": [
    "f\"Dataset a but with all fields (except the test field): {train_and_evaluate(data_encoded, drop_fields=['GoodInvestment'])}\""
   ]
  },
  {
   "cell_type": "markdown",
   "metadata": {},
   "source": [
    "### Hypertune parameters\n"
   ]
  },
  {
   "cell_type": "code",
   "execution_count": 46,
   "metadata": {},
   "outputs": [
    {
     "data": {
      "text/plain": [
       "\"Best hyperparameters: {'max_depth': 10, 'min_samples_leaf': 1, 'min_samples_split': 5}, accuracy: 0.8217588952286224\""
      ]
     },
     "execution_count": 46,
     "metadata": {},
     "output_type": "execute_result"
    }
   ],
   "source": [
    "from sklearn.model_selection import GridSearchCV\n",
    "\n",
    "X_train, _, y_train, _ = train_test(data_encoded)\n",
    "\n",
    "param_grid = {\n",
    "    \"max_depth\": [None, 5, 10, 15, 20],\n",
    "    \"min_samples_split\": [2, 3, 5, 10, 20],\n",
    "    \"min_samples_leaf\": [1, 2, 3, 4, 8],\n",
    "}\n",
    "\n",
    "grid_search = GridSearchCV(\n",
    "    DecisionTreeClassifier(random_state=42), param_grid, cv=5, scoring=\"accuracy\"\n",
    ")\n",
    "\n",
    "best_model = grid_search.fit(X_train, y_train)\n",
    "\n",
    "f\"Best hyperparameters: {best_model.best_params_}, accuracy: {best_model.best_score_}\""
   ]
  },
  {
   "cell_type": "markdown",
   "metadata": {},
   "source": [
    "# Neural network\n"
   ]
  },
  {
   "cell_type": "code",
   "execution_count": 47,
   "metadata": {},
   "outputs": [
    {
     "name": "stdout",
     "output_type": "stream",
     "text": [
      "Epoch 1/10\n",
      "418/418 [==============================] - 1s 2ms/step - loss: 0.3785 - accuracy: 0.8338\n",
      "Epoch 2/10\n",
      "418/418 [==============================] - 1s 2ms/step - loss: 0.0999 - accuracy: 0.9653\n",
      "Epoch 3/10\n",
      "418/418 [==============================] - 1s 2ms/step - loss: 0.0234 - accuracy: 0.9942\n",
      "Epoch 4/10\n",
      "418/418 [==============================] - 1s 2ms/step - loss: 0.0103 - accuracy: 0.9978\n",
      "Epoch 5/10\n",
      "418/418 [==============================] - 1s 2ms/step - loss: 0.0087 - accuracy: 0.9978\n",
      "Epoch 6/10\n",
      "418/418 [==============================] - 1s 2ms/step - loss: 0.0076 - accuracy: 0.9975\n",
      "Epoch 7/10\n",
      "418/418 [==============================] - 1s 2ms/step - loss: 0.0048 - accuracy: 0.9985\n",
      "Epoch 8/10\n",
      "418/418 [==============================] - 1s 2ms/step - loss: 0.0058 - accuracy: 0.9983\n",
      "Epoch 9/10\n",
      "418/418 [==============================] - 1s 2ms/step - loss: 0.0041 - accuracy: 0.9988\n",
      "Epoch 10/10\n",
      "418/418 [==============================] - 1s 2ms/step - loss: 0.0024 - accuracy: 0.9990\n",
      "105/105 [==============================] - 0s 722us/step - loss: 0.3542 - accuracy: 0.8979\n"
     ]
    },
    {
     "data": {
      "text/plain": [
       "'Test Accuracy: 0.8979347348213196'"
      ]
     },
     "execution_count": 47,
     "metadata": {},
     "output_type": "execute_result"
    }
   ],
   "source": [
    "import pandas as pd\n",
    "from sklearn.model_selection import train_test_split\n",
    "from sklearn.preprocessing import StandardScaler, OneHotEncoder\n",
    "from sklearn.compose import ColumnTransformer\n",
    "from tensorflow.keras.models import Sequential\n",
    "from tensorflow.keras.layers import Dense\n",
    "\n",
    "X = real_estate_data.drop(\"GoodInvestment\", axis=1)\n",
    "y = real_estate_data[\"GoodInvestment\"]\n",
    "\n",
    "numerical_features = [\n",
    "    \"Bedroom\",\n",
    "    \"Bathroom\",\n",
    "    \"Area\",\n",
    "    \"PPSq\",\n",
    "    \"LotArea\",\n",
    "    \"MarketEstimate\",\n",
    "    \"RentEstimate\",\n",
    "    \"Latitude\",\n",
    "    \"Longitude\",\n",
    "    \"ListedPrice\",\n",
    "]\n",
    "categorical_features = [\"State\", \"City\", \"Street\", \"Zipcode\"]\n",
    "\n",
    "numerical_transformer = StandardScaler()\n",
    "categorical_transformer = OneHotEncoder(handle_unknown=\"ignore\", sparse_output=False)\n",
    "\n",
    "preprocessor = ColumnTransformer(\n",
    "    transformers=[\n",
    "        (\"num\", numerical_transformer, numerical_features),\n",
    "        (\"cat\", categorical_transformer, categorical_features),\n",
    "    ]\n",
    ")\n",
    "\n",
    "X_train, X_test, y_train, y_test = train_test_split(\n",
    "    X, y, test_size=0.2, random_state=42\n",
    ")\n",
    "\n",
    "X_train = preprocessor.fit_transform(X_train)\n",
    "X_test = preprocessor.transform(X_test)\n",
    "\n",
    "model = Sequential(\n",
    "    [\n",
    "        Dense(64, activation=\"relu\", input_shape=(X_train.shape[1],)),\n",
    "        Dense(32, activation=\"relu\"),\n",
    "        Dense(1, activation=\"sigmoid\"),\n",
    "    ]\n",
    ")\n",
    "\n",
    "model.compile(optimizer=\"adam\", loss=\"binary_crossentropy\", metrics=[\"accuracy\"])\n",
    "\n",
    "model.fit(X_train, y_train, epochs=10, batch_size=32)\n",
    "\n",
    "loss, accuracy = model.evaluate(X_test, y_test)\n",
    "f\"Test Accuracy: {accuracy}\""
   ]
  },
  {
   "cell_type": "code",
   "execution_count": 48,
   "metadata": {},
   "outputs": [
    {
     "name": "stdout",
     "output_type": "stream",
     "text": [
      "lr: 0.001, layers: 1, nodes: 32, dropout: 0.0, accuracy: 0.8814725875854492\n",
      "lr: 0.001, layers: 1, nodes: 32, dropout: 0.2, accuracy: 0.8850643634796143\n",
      "lr: 0.001, layers: 1, nodes: 64, dropout: 0.0, accuracy: 0.8895540237426758\n",
      "lr: 0.001, layers: 1, nodes: 64, dropout: 0.2, accuracy: 0.883867084980011\n",
      "lr: 0.001, layers: 2, nodes: 32, dropout: 0.0, accuracy: 0.8919485211372375\n",
      "lr: 0.001, layers: 2, nodes: 32, dropout: 0.2, accuracy: 0.893145740032196\n",
      "lr: 0.001, layers: 2, nodes: 64, dropout: 0.0, accuracy: 0.8910505771636963\n",
      "lr: 0.001, layers: 2, nodes: 64, dropout: 0.2, accuracy: 0.8913499116897583\n",
      "lr: 0.001, layers: 3, nodes: 32, dropout: 0.0, accuracy: 0.8991320133209229\n",
      "lr: 0.001, layers: 3, nodes: 32, dropout: 0.2, accuracy: 0.887458860874176\n",
      "lr: 0.001, layers: 3, nodes: 64, dropout: 0.0, accuracy: 0.8934450745582581\n",
      "lr: 0.001, layers: 3, nodes: 64, dropout: 0.2, accuracy: 0.8883568048477173\n",
      "lr: 0.01, layers: 1, nodes: 32, dropout: 0.0, accuracy: 0.886860191822052\n",
      "lr: 0.01, layers: 1, nodes: 32, dropout: 0.2, accuracy: 0.883867084980011\n",
      "lr: 0.01, layers: 1, nodes: 64, dropout: 0.0, accuracy: 0.8925471305847168\n",
      "lr: 0.01, layers: 1, nodes: 64, dropout: 0.2, accuracy: 0.87518709897995\n",
      "lr: 0.01, layers: 2, nodes: 32, dropout: 0.0, accuracy: 0.8823705315589905\n",
      "lr: 0.01, layers: 2, nodes: 32, dropout: 0.2, accuracy: 0.8760849833488464\n",
      "lr: 0.01, layers: 2, nodes: 64, dropout: 0.0, accuracy: 0.8859623074531555\n",
      "lr: 0.01, layers: 2, nodes: 64, dropout: 0.2, accuracy: 0.8817719221115112\n",
      "lr: 0.01, layers: 3, nodes: 32, dropout: 0.0, accuracy: 0.8793774247169495\n",
      "lr: 0.01, layers: 3, nodes: 32, dropout: 0.2, accuracy: 0.883867084980011\n",
      "lr: 0.01, layers: 3, nodes: 64, dropout: 0.0, accuracy: 0.8817719221115112\n",
      "lr: 0.01, layers: 3, nodes: 64, dropout: 0.2, accuracy: 0.884166419506073\n"
     ]
    },
    {
     "data": {
      "text/plain": [
       "('Best Accuracy: 0.8991320133209229',\n",
       " \"Best Parameters: {'learning_rate': 0.001, 'n_layers': 3, 'n_nodes': 32, 'dropout_rate': 0.0}\")"
      ]
     },
     "execution_count": 48,
     "metadata": {},
     "output_type": "execute_result"
    }
   ],
   "source": [
    "from tensorflow.keras.models import Sequential\n",
    "from tensorflow.keras.layers import Dense, Dropout\n",
    "from tensorflow.keras.optimizers.legacy import Adam\n",
    "from sklearn.metrics import accuracy_score\n",
    "\n",
    "\n",
    "def create_model(learning_rate=0.001, n_layers=1, n_nodes=32, dropout_rate=0.0):\n",
    "    model = Sequential()\n",
    "    model.add(Dense(n_nodes, activation=\"relu\", input_shape=(X_train.shape[1],)))\n",
    "    for _ in range(n_layers - 1):\n",
    "        model.add(Dense(n_nodes, activation=\"relu\"))\n",
    "        if dropout_rate > 0:\n",
    "            model.add(Dropout(dropout_rate))\n",
    "    model.add(Dense(1, activation=\"sigmoid\"))\n",
    "    model.compile(\n",
    "        optimizer=Adam(learning_rate=learning_rate),\n",
    "        loss=\"binary_crossentropy\",\n",
    "        metrics=[\"accuracy\"],\n",
    "    )\n",
    "    return model\n",
    "\n",
    "\n",
    "learning_rates = [0.001, 0.01]\n",
    "n_layers = [1, 2, 3]\n",
    "n_nodes = [32, 64]\n",
    "dropout_rates = [0.0, 0.2]\n",
    "\n",
    "best_accuracy = 0\n",
    "best_params = {}\n",
    "\n",
    "for lr in learning_rates:\n",
    "    for layers in n_layers:\n",
    "        for nodes in n_nodes:\n",
    "            for dropout in dropout_rates:\n",
    "                model = create_model(\n",
    "                    learning_rate=lr,\n",
    "                    n_layers=layers,\n",
    "                    n_nodes=nodes,\n",
    "                    dropout_rate=dropout,\n",
    "                )\n",
    "                model.fit(X_train, y_train, epochs=10, batch_size=32, verbose=0)\n",
    "                accuracy = model.evaluate(X_test, y_test, verbose=0)[1]\n",
    "                print(\n",
    "                    f\"lr: {lr}, layers: {layers}, nodes: {nodes}, dropout: {dropout}, accuracy: {accuracy}\"\n",
    "                )\n",
    "                if accuracy > best_accuracy:\n",
    "                    best_accuracy = accuracy\n",
    "                    best_params = {\n",
    "                        \"learning_rate\": lr,\n",
    "                        \"n_layers\": layers,\n",
    "                        \"n_nodes\": nodes,\n",
    "                        \"dropout_rate\": dropout,\n",
    "                    }\n",
    "\n",
    "(f\"Best Accuracy: {best_accuracy}\", f\"Best Parameters: {best_params}\")"
   ]
  },
  {
   "cell_type": "code",
   "execution_count": 49,
   "metadata": {},
   "outputs": [
    {
     "name": "stdout",
     "output_type": "stream",
     "text": [
      "Epoch 1/10\n",
      "418/418 [==============================] - 1s 2ms/step - loss: 0.3747 - accuracy: 0.8346 - val_loss: 0.2587 - val_accuracy: 0.8869\n",
      "Epoch 2/10\n",
      "418/418 [==============================] - 1s 2ms/step - loss: 0.0948 - accuracy: 0.9681 - val_loss: 0.2742 - val_accuracy: 0.8899\n",
      "Epoch 3/10\n",
      "418/418 [==============================] - 1s 2ms/step - loss: 0.0206 - accuracy: 0.9954 - val_loss: 0.2941 - val_accuracy: 0.8934\n",
      "Epoch 4/10\n",
      "418/418 [==============================] - 1s 2ms/step - loss: 0.0089 - accuracy: 0.9974 - val_loss: 0.3019 - val_accuracy: 0.8949\n",
      "Epoch 5/10\n",
      "418/418 [==============================] - 1s 2ms/step - loss: 0.0073 - accuracy: 0.9978 - val_loss: 0.3200 - val_accuracy: 0.8931\n",
      "Epoch 6/10\n",
      "418/418 [==============================] - 1s 2ms/step - loss: 0.0043 - accuracy: 0.9989 - val_loss: 0.3508 - val_accuracy: 0.8937\n",
      "Epoch 7/10\n",
      "418/418 [==============================] - 1s 2ms/step - loss: 0.0064 - accuracy: 0.9978 - val_loss: 0.3429 - val_accuracy: 0.8896\n",
      "Epoch 8/10\n",
      "418/418 [==============================] - 1s 2ms/step - loss: 0.0044 - accuracy: 0.9984 - val_loss: 0.3637 - val_accuracy: 0.8934\n",
      "Epoch 9/10\n",
      "418/418 [==============================] - 1s 2ms/step - loss: 0.0043 - accuracy: 0.9989 - val_loss: 0.3561 - val_accuracy: 0.8949\n",
      "Epoch 10/10\n",
      "418/418 [==============================] - 1s 2ms/step - loss: 0.0037 - accuracy: 0.9988 - val_loss: 0.3789 - val_accuracy: 0.8940\n"
     ]
    },
    {
     "data": {
      "image/png": "[encoded data removed]",
      "text/plain": [
       "<Figure size 1200x600 with 2 Axes>"
      ]
     },
     "metadata": {},
     "output_type": "display_data"
    }
   ],
   "source": [
    "import matplotlib.pyplot as plt\n",
    "from tensorflow.keras.models import Sequential\n",
    "from tensorflow.keras.layers import Dense\n",
    "from tensorflow.keras.optimizers.legacy import Adam\n",
    "\n",
    "\n",
    "model = Sequential(\n",
    "    [\n",
    "        Dense(64, activation=\"relu\", input_shape=(X_train.shape[1],)),\n",
    "        Dense(32, activation=\"relu\"),\n",
    "        Dense(1, activation=\"sigmoid\"),\n",
    "    ]\n",
    ")\n",
    "\n",
    "model.compile(optimizer=Adam(), loss=\"binary_crossentropy\", metrics=[\"accuracy\"])\n",
    "\n",
    "history = model.fit(\n",
    "    X_train, y_train, validation_data=(X_test, y_test), epochs=10, batch_size=32\n",
    ")\n",
    "\n",
    "plt.figure(figsize=(12, 6))\n",
    "plt.subplot(1, 2, 1)\n",
    "plt.plot(history.history[\"accuracy\"])\n",
    "plt.plot(history.history[\"val_accuracy\"])\n",
    "plt.title(\"Model Accuracy\")\n",
    "plt.ylabel(\"Accuracy\")\n",
    "plt.xlabel(\"Epoch\")\n",
    "plt.legend([\"Train\", \"Test\"], loc=\"upper left\")\n",
    "\n",
    "plt.subplot(1, 2, 2)\n",
    "plt.plot(history.history[\"loss\"])\n",
    "plt.plot(history.history[\"val_loss\"])\n",
    "plt.title(\"Model Loss\")\n",
    "plt.ylabel(\"Loss\")\n",
    "plt.xlabel(\"Epoch\")\n",
    "plt.legend([\"Train\", \"Test\"], loc=\"upper left\")\n",
    "\n",
    "plt.tight_layout()\n",
    "plt.show()"
   ]
  },
  {
   "cell_type": "code",
   "execution_count": 50,
   "metadata": {},
   "outputs": [
    {
     "name": "stdout",
     "output_type": "stream",
     "text": [
      "Epoch | Training Score | Validation Score\n",
      "-----------------------------------------\n",
      "1     | 0.8346303701400757         | 0.886860191822052\n",
      "2     | 0.9681233167648315         | 0.8898533582687378\n",
      "3     | 0.9953606724739075         | 0.8934450745582581\n",
      "4     | 0.9973810315132141         | 0.8949416279792786\n",
      "5     | 0.9978299736976624         | 0.893145740032196\n",
      "6     | 0.9988775849342346         | 0.8937444090843201\n",
      "7     | 0.9978299736976624         | 0.8895540237426758\n",
      "8     | 0.9984286427497864         | 0.8934450745582581\n",
      "9     | 0.9988775849342346         | 0.8949416279792786\n",
      "10     | 0.9988027811050415         | 0.8940436840057373\n"
     ]
    }
   ],
   "source": [
    "train_scores = history.history[\"accuracy\"]\n",
    "val_scores = history.history[\"val_accuracy\"]\n",
    "\n",
    "print(\"Epoch | Training Score | Validation Score\")\n",
    "print(\"-----------------------------------------\")\n",
    "for epoch in range(len(train_scores)):\n",
    "    print(f\"{epoch + 1}     | {train_scores[epoch]}         | {val_scores[epoch]}\")"
   ]
  },
  {
   "cell_type": "code",
   "execution_count": 52,
   "metadata": {},
   "outputs": [
    {
     "name": "stdout",
     "output_type": "stream",
     "text": [
      "Epoch | Training Loss | Validation Loss\n",
      "---------------------------------------\n",
      "1     | 0.3747        | 0.2587\n",
      "2     | 0.0948        | 0.2742\n",
      "3     | 0.0206        | 0.2941\n",
      "4     | 0.0089        | 0.3019\n",
      "5     | 0.0073        | 0.3200\n",
      "6     | 0.0043        | 0.3508\n",
      "7     | 0.0064        | 0.3429\n",
      "8     | 0.0044        | 0.3637\n",
      "9     | 0.0043        | 0.3561\n",
      "10     | 0.0037        | 0.3789\n"
     ]
    }
   ],
   "source": [
    "# Extracting loss values\n",
    "train_loss = history.history[\"loss\"]\n",
    "val_loss = history.history[\"val_loss\"]\n",
    "\n",
    "# Printing the loss values for each epoch\n",
    "print(\"Epoch | Training Loss | Validation Loss\")\n",
    "print(\"---------------------------------------\")\n",
    "for epoch in range(len(train_loss)):\n",
    "    print(f\"{epoch + 1}     | {train_loss[epoch]:.4f}        | {val_loss[epoch]:.4f}\")"
   ]
  },
  {
   "cell_type": "code",
   "execution_count": 56,
   "metadata": {},
   "outputs": [
    {
     "name": "stdout",
     "output_type": "stream",
     "text": [
      "105/105 - 0s - loss: 0.3789 - accuracy: 0.8940 - 79ms/epoch - 751us/step\n"
     ]
    },
    {
     "data": {
      "text/plain": [
       "'Test accuracy: 0.8940'"
      ]
     },
     "execution_count": 56,
     "metadata": {},
     "output_type": "execute_result"
    }
   ],
   "source": [
    "test_loss, test_accuracy = model.evaluate(X_test, y_test, verbose=2)\n",
    "\n",
    "f\"Test accuracy: {test_accuracy:.4f}\""
   ]
  },
  {
   "cell_type": "markdown",
   "metadata": {},
   "source": [
    "## Boosted decision tree\n"
   ]
  },
  {
   "cell_type": "code",
   "execution_count": 58,
   "metadata": {},
   "outputs": [
    {
     "name": "stdout",
     "output_type": "stream",
     "text": [
      "Accuracy: 0.8377731218198144\n",
      "              precision    recall  f1-score   support\n",
      "\n",
      "           0       0.87      0.87      0.87      2083\n",
      "           1       0.78      0.79      0.79      1258\n",
      "\n",
      "    accuracy                           0.84      3341\n",
      "   macro avg       0.83      0.83      0.83      3341\n",
      "weighted avg       0.84      0.84      0.84      3341\n",
      "\n"
     ]
    }
   ],
   "source": [
    "from sklearn.ensemble import GradientBoostingClassifier\n",
    "from sklearn.metrics import accuracy_score, classification_report\n",
    "\n",
    "X_train, X_test, y_train, y_test = train_test(data_encoded)\n",
    "\n",
    "gbc = GradientBoostingClassifier(\n",
    "    n_estimators=100, learning_rate=1.0, max_depth=3, random_state=42\n",
    ")\n",
    "\n",
    "gbc.fit(X_train, y_train)\n",
    "\n",
    "y_pred = gbc.predict(X_test)\n",
    "print(\"Accuracy:\", accuracy_score(y_test, y_pred))\n",
    "print(classification_report(y_test, y_pred))"
   ]
  },
  {
   "cell_type": "code",
   "execution_count": 59,
   "metadata": {},
   "outputs": [
    {
     "name": "stderr",
     "output_type": "stream",
     "text": [
      "/opt/homebrew/lib/python3.11/site-packages/joblib/externals/loky/process_executor.py:752: UserWarning: A worker stopped while some jobs were given to the executor. This can be caused by a too short worker timeout or by a memory leak.\n",
      "  warnings.warn(\n"
     ]
    },
    {
     "data": {
      "text/plain": [
       "('Best parameters:',\n",
       " {'learning_rate': 0.1, 'max_depth': 4, 'n_estimators': 200})"
      ]
     },
     "execution_count": 59,
     "metadata": {},
     "output_type": "execute_result"
    }
   ],
   "source": [
    "from sklearn.model_selection import GridSearchCV\n",
    "\n",
    "param_grid = {\n",
    "    \"n_estimators\": [100, 200, 300],\n",
    "    \"learning_rate\": [0.01, 0.1, 1],\n",
    "    \"max_depth\": [3, 4, 5],\n",
    "}\n",
    "\n",
    "gbc = GradientBoostingClassifier(random_state=42)\n",
    "grid_search = GridSearchCV(estimator=gbc, param_grid=param_grid, cv=3, n_jobs=-1)\n",
    "grid_search.fit(X_train, y_train)\n",
    "f\"Best parameters: {grid_search.best_params_}\""
   ]
  },
  {
   "cell_type": "code",
   "execution_count": 77,
   "metadata": {},
   "outputs": [
    {
     "data": {
      "text/plain": [
       "'Accuracy: 0.8425621071535468'"
      ]
     },
     "execution_count": 77,
     "metadata": {},
     "output_type": "execute_result"
    }
   ],
   "source": [
    "from sklearn.metrics import accuracy_score\n",
    "\n",
    "best_gbc = grid_search.best_estimator_\n",
    "\n",
    "predictions = best_gbc.predict(X_test)\n",
    "\n",
    "f\"Accuracy: {accuracy_score(y_test, predictions)}\""
   ]
  },
  {
   "cell_type": "code",
   "execution_count": 89,
   "metadata": {},
   "outputs": [
    {
     "data": {
      "image/png": "[encoded data removed]",
      "text/plain": [
       "<Figure size 1000x600 with 1 Axes>"
      ]
     },
     "metadata": {},
     "output_type": "display_data"
    },
    {
     "data": {
      "text/plain": [
       "\"[('LotArea', 0.006765128467539299), ('MarketEstimate', 0.008819884523145262), ('City', 0.018675403872991148), ('Zipcode', 0.020350222964635564), ('Street', 0.020370570738077087), ('State', 0.024074114152040395), ('Latitude', 0.024614860678606815), ('Longitude', 0.08117802053491154), ('PPSq', 0.09301744237217505), ('ListedPrice', 0.6910407438626124)]\""
      ]
     },
     "execution_count": 89,
     "metadata": {},
     "output_type": "execute_result"
    }
   ],
   "source": [
    "import matplotlib.pyplot as plt\n",
    "import numpy as np\n",
    "\n",
    "feature_importances = best_gbc.feature_importances_\n",
    "features = X_train.columns\n",
    "\n",
    "importance_dict = dict(zip(features, feature_importances))\n",
    "\n",
    "categories = [\n",
    "    \"State\",\n",
    "    \"Zipcode\",\n",
    "    \"City\",\n",
    "    \"Street\",\n",
    "]\n",
    "aggregated_importances = {}\n",
    "for cat in categories:\n",
    "    cat_importance = sum(\n",
    "        importance\n",
    "        for feature, importance in importance_dict.items()\n",
    "        if feature.startswith(cat)\n",
    "    )\n",
    "    aggregated_importances[cat] = cat_importance\n",
    "\n",
    "importance_dict.update(aggregated_importances)\n",
    "\n",
    "importance_dict = {\n",
    "    feature: importance\n",
    "    for feature, importance in importance_dict.items()\n",
    "    if not any(feature.startswith(cat + \"_\") for cat in categories)\n",
    "}\n",
    "\n",
    "sorted_importances = sorted(importance_dict.items(), key=lambda x: x[1])\n",
    "\n",
    "top_features, top_importances = zip(*sorted_importances[-10:])\n",
    "\n",
    "plt.figure(figsize=(10, 6))\n",
    "plt.title(\"Top 5 Feature Importances\")\n",
    "plt.barh(range(len(top_features)), top_importances, align=\"center\")\n",
    "plt.yticks(range(len(top_features)), top_features)\n",
    "plt.xlabel(\"Relative Importance\")\n",
    "plt.show()\n",
    "\n",
    "f\"{sorted_importances[-10:]}\""
   ]
  },
  {
   "cell_type": "code",
   "execution_count": 110,
   "metadata": {},
   "outputs": [
    {
     "name": "stderr",
     "output_type": "stream",
     "text": [
      "/opt/homebrew/lib/python3.11/site-packages/joblib/externals/loky/process_executor.py:752: UserWarning: A worker stopped while some jobs were given to the executor. This can be caused by a too short worker timeout or by a memory leak.\n",
      "  warnings.warn(\n"
     ]
    },
    {
     "data": {
      "text/plain": [
       "\"Best parameters: {'learning_rate': 0.1, 'max_depth': 5, 'n_estimators': 200}\""
      ]
     },
     "execution_count": 110,
     "metadata": {},
     "output_type": "execute_result"
    }
   ],
   "source": [
    "# Let's try again without street and zipcode which probably provide many unique values (especially street).\n",
    "no_street_or_zip = no_street = pd.get_dummies(\n",
    "    real_estate_data.drop([\"Street\", \"Zipcode\"], axis=1),\n",
    "    columns=list(\n",
    "        filter(\n",
    "            lambda field: not (field == \"Street\" or field == \"Zipcode\"), STRING_FIELDS\n",
    "        )\n",
    "    ),\n",
    ")\n",
    "\n",
    "X_train, X_test, y_train, y_test = train_test(no_street_or_zip)\n",
    "\n",
    "param_grid = {\n",
    "    \"n_estimators\": [100, 200, 300],\n",
    "    \"learning_rate\": [0.01, 0.1, 1],\n",
    "    \"max_depth\": [3, 4, 5],\n",
    "}\n",
    "\n",
    "gbc = GradientBoostingClassifier(random_state=42)\n",
    "grid_search = GridSearchCV(estimator=gbc, param_grid=param_grid, cv=3, n_jobs=-1)\n",
    "grid_search.fit(X_train, y_train)\n",
    "f\"Best parameters: {grid_search.best_params_}\""
   ]
  },
  {
   "cell_type": "code",
   "execution_count": 111,
   "metadata": {},
   "outputs": [
    {
     "data": {
      "text/plain": [
       "'Accuracy: 0.8461538461538461'"
      ]
     },
     "execution_count": 111,
     "metadata": {},
     "output_type": "execute_result"
    }
   ],
   "source": [
    "from sklearn.metrics import accuracy_score\n",
    "\n",
    "best_gbc = grid_search.best_estimator_\n",
    "\n",
    "predictions = best_gbc.predict(X_test)\n",
    "\n",
    "f\"Accuracy: {accuracy_score(y_test, predictions)}\""
   ]
  },
  {
   "cell_type": "code",
   "execution_count": 112,
   "metadata": {},
   "outputs": [
    {
     "data": {
      "image/png": "[encoded data removed]",
      "text/plain": [
       "<Figure size 1000x600 with 1 Axes>"
      ]
     },
     "metadata": {},
     "output_type": "display_data"
    },
    {
     "data": {
      "text/plain": [
       "\"[('Area', 0.006224212214232853), ('Bathroom', 0.00933606865189942), ('LotArea', 0.009628758180723654), ('MarketEstimate', 0.015184558855000415), ('State', 0.03148852110357362), ('Latitude', 0.03356533781779458), ('City', 0.06396740986557728), ('Longitude', 0.08535655998918117), ('PPSq', 0.08982545330129232), ('ListedPrice', 0.6517913707930352)]\""
      ]
     },
     "execution_count": 112,
     "metadata": {},
     "output_type": "execute_result"
    }
   ],
   "source": [
    "feature_importances = best_gbc.feature_importances_\n",
    "features = X_train.columns\n",
    "\n",
    "importance_dict = dict(zip(features, feature_importances))\n",
    "\n",
    "categories = [\n",
    "    \"State\",\n",
    "    \"Zipcode\",\n",
    "    \"City\",\n",
    "    \"Street\",\n",
    "]\n",
    "aggregated_importances = {}\n",
    "for cat in categories:\n",
    "    cat_importance = sum(\n",
    "        importance\n",
    "        for feature, importance in importance_dict.items()\n",
    "        if feature.startswith(cat)\n",
    "    )\n",
    "    aggregated_importances[cat] = cat_importance\n",
    "\n",
    "importance_dict.update(aggregated_importances)\n",
    "\n",
    "importance_dict = {\n",
    "    feature: importance\n",
    "    for feature, importance in importance_dict.items()\n",
    "    if not any(feature.startswith(cat + \"_\") for cat in categories)\n",
    "}\n",
    "\n",
    "sorted_importances = sorted(importance_dict.items(), key=lambda x: x[1])\n",
    "\n",
    "top_features, top_importances = zip(*sorted_importances[-10:])\n",
    "\n",
    "plt.figure(figsize=(10, 6))\n",
    "plt.title(\"Top 5 Feature Importances\")\n",
    "plt.barh(range(len(top_features)), top_importances, align=\"center\")\n",
    "plt.yticks(range(len(top_features)), top_features)\n",
    "plt.xlabel(\"Relative Importance\")\n",
    "plt.show()\n",
    "\n",
    "f\"{sorted_importances[-10:]}\""
   ]
  },
  {
   "cell_type": "code",
   "execution_count": 113,
   "metadata": {},
   "outputs": [
    {
     "name": "stdout",
     "output_type": "stream",
     "text": [
      "Accuracy: 0.850942695427054\n"
     ]
    },
    {
     "data": {
      "text/plain": [
       "\"Best parameters: {'learning_rate': 0.1, 'max_depth': 4, 'n_estimators': 200}\""
      ]
     },
     "execution_count": 113,
     "metadata": {},
     "output_type": "execute_result"
    }
   ],
   "source": [
    "# Let's try again without street and zipcode which probably provide many unique values (especially street).\n",
    "no_city_street_or_zip = no_street = pd.get_dummies(\n",
    "    real_estate_data.drop([\"Street\", \"Zipcode\", \"City\"], axis=1),\n",
    "    columns=list(\n",
    "        filter(\n",
    "            lambda field: not (\n",
    "                field == \"Street\" or field == \"Zipcode\" or field == \"City\"\n",
    "            ),\n",
    "            STRING_FIELDS,\n",
    "        )\n",
    "    ),\n",
    ")\n",
    "\n",
    "X_train, X_test, y_train, y_test = train_test(no_street_or_zip)\n",
    "\n",
    "param_grid = {\n",
    "    \"n_estimators\": [100, 200, 300],\n",
    "    \"learning_rate\": [0.01, 0.1, 1],\n",
    "    \"max_depth\": [3, 4, 5],\n",
    "}\n",
    "\n",
    "gbc = GradientBoostingClassifier(random_state=42)\n",
    "grid_search = GridSearchCV(estimator=gbc, param_grid=param_grid, cv=3, n_jobs=-1)\n",
    "grid_search.fit(X_train, y_train)\n",
    "print(f\"Accuracy: {grid_search.best_score_}\")\n",
    "f\"Best parameters: {grid_search.best_params_}\""
   ]
  },
  {
   "cell_type": "code",
   "execution_count": 115,
   "metadata": {},
   "outputs": [
    {
     "data": {
      "image/png": "[encoded data removed]",
      "text/plain": [
       "<Figure size 1000x600 with 1 Axes>"
      ]
     },
     "metadata": {},
     "output_type": "display_data"
    },
    {
     "data": {
      "text/plain": [
       "\"[('Street', 0), ('Bedroom', 0.003631749227689566), ('Area', 0.006224212214232853), ('Bathroom', 0.00933606865189942), ('LotArea', 0.009628758180723654), ('MarketEstimate', 0.015184558855000415), ('Latitude', 0.03356533781779458), ('Longitude', 0.08535655998918117), ('PPSq', 0.08982545330129232), ('ListedPrice', 0.6517913707930352)]\""
      ]
     },
     "execution_count": 115,
     "metadata": {},
     "output_type": "execute_result"
    }
   ],
   "source": [
    "feature_importances = best_gbc.feature_importances_\n",
    "features = X_train.columns\n",
    "\n",
    "importance_dict = dict(zip(features, feature_importances))\n",
    "\n",
    "aggregated_importances = {}\n",
    "for cat in categories:\n",
    "    cat_importance = sum(\n",
    "        importance\n",
    "        for feature, importance in importance_dict.items()\n",
    "        if feature.startswith(cat)\n",
    "    )\n",
    "    aggregated_importances[cat] = cat_importance\n",
    "\n",
    "importance_dict.update(aggregated_importances)\n",
    "\n",
    "importance_dict = {\n",
    "    feature: importance\n",
    "    for feature, importance in importance_dict.items()\n",
    "    if not any(feature.startswith(cat + \"_\") for cat in categories)\n",
    "}\n",
    "\n",
    "sorted_importances = sorted(importance_dict.items(), key=lambda x: x[1])\n",
    "\n",
    "top_features, top_importances = zip(*sorted_importances[-10:])\n",
    "\n",
    "plt.figure(figsize=(10, 6))\n",
    "plt.title(\"Top 5 Feature Importances\")\n",
    "plt.barh(range(len(top_features)), top_importances, align=\"center\")\n",
    "plt.yticks(range(len(top_features)), top_features)\n",
    "plt.xlabel(\"Relative Importance\")\n",
    "plt.show()\n",
    "\n",
    "f\"{sorted_importances[-10:]}\""
   ]
  },
  {
   "cell_type": "code",
   "execution_count": 114,
   "metadata": {},
   "outputs": [
    {
     "name": "stdout",
     "output_type": "stream",
     "text": [
      "Accuracy: 0.8483236462481086\n"
     ]
    },
    {
     "data": {
      "text/plain": [
       "\"Best parameters: {'learning_rate': 0.1, 'max_depth': 4, 'n_estimators': 200}\""
      ]
     },
     "execution_count": 114,
     "metadata": {},
     "output_type": "execute_result"
    }
   ],
   "source": [
    "# Let's try again without street and zipcode which probably provide many unique values (especially street).\n",
    "no_categorical_fields = real_estate_data.drop(\n",
    "    [\"Street\", \"Zipcode\", \"City\", \"State\"], axis=1\n",
    ")\n",
    "\n",
    "X_train, X_test, y_train, y_test = train_test(no_categorical_fields)\n",
    "\n",
    "param_grid = {\n",
    "    \"n_estimators\": [100, 200, 300],\n",
    "    \"learning_rate\": [0.01, 0.1, 1],\n",
    "    \"max_depth\": [3, 4, 5],\n",
    "}\n",
    "\n",
    "gbc = GradientBoostingClassifier(random_state=42)\n",
    "grid_search = GridSearchCV(estimator=gbc, param_grid=param_grid, cv=3, n_jobs=-1)\n",
    "grid_search.fit(X_train, y_train)\n",
    "print(f\"Accuracy: {grid_search.best_score_}\")\n",
    "f\"Best parameters: {grid_search.best_params_}\""
   ]
  },
  {
   "cell_type": "markdown",
   "metadata": {},
   "source": [
    "## KNN (K-nearest neighbors)\n"
   ]
  },
  {
   "cell_type": "code",
   "execution_count": 31,
   "metadata": {},
   "outputs": [
    {
     "name": "stdout",
     "output_type": "stream",
     "text": [
      "Accuracy: 0.41664172403472016\n",
      "              precision    recall  f1-score   support\n",
      "\n",
      "           0       0.73      0.10      0.18      2083\n",
      "           1       0.39      0.94      0.55      1258\n",
      "\n",
      "    accuracy                           0.42      3341\n",
      "   macro avg       0.56      0.52      0.36      3341\n",
      "weighted avg       0.60      0.42      0.32      3341\n",
      "\n"
     ]
    }
   ],
   "source": [
    "from sklearn.neighbors import KNeighborsClassifier\n",
    "from sklearn.model_selection import train_test_split\n",
    "from sklearn.preprocessing import StandardScaler\n",
    "from sklearn.metrics import classification_report, accuracy_score\n",
    "\n",
    "X_train, X_test, y_train, y_test = train_test(data_encoded)\n",
    "\n",
    "scaler = StandardScaler()\n",
    "X_train_scaled = scaler.fit_transform(X_train)\n",
    "X_test_scaled = scaler.transform(X_test)\n",
    "\n",
    "knn = KNeighborsClassifier(n_neighbors=5)\n",
    "\n",
    "knn.fit(X_train_scaled, y_train)\n",
    "y_pred = knn.predict(X_test_scaled)\n",
    "print(\"Accuracy:\", accuracy_score(y_test, y_pred))\n",
    "print(classification_report(y_test, y_pred))"
   ]
  },
  {
   "cell_type": "code",
   "execution_count": 32,
   "metadata": {},
   "outputs": [
    {
     "name": "stdout",
     "output_type": "stream",
     "text": [
      "Accuracy: 0.6830290332235858\n",
      "              precision    recall  f1-score   support\n",
      "\n",
      "           0       0.69      0.88      0.78      2083\n",
      "           1       0.64      0.35      0.46      1258\n",
      "\n",
      "    accuracy                           0.68      3341\n",
      "   macro avg       0.67      0.62      0.62      3341\n",
      "weighted avg       0.67      0.68      0.66      3341\n",
      "\n"
     ]
    }
   ],
   "source": [
    "# Remove street which probably has low impact\n",
    "no_street = pd.get_dummies(\n",
    "    real_estate_data.drop([\"Street\", \"Zipcode\"], axis=1),\n",
    "    columns=list(\n",
    "        filter(\n",
    "            lambda field: not (field == \"Street\" or field == \"Zipcode\"), STRING_FIELDS\n",
    "        )\n",
    "    ),\n",
    ")\n",
    "\n",
    "X_train, X_test, y_train, y_test = train_test(no_street)\n",
    "\n",
    "scaler = StandardScaler()\n",
    "X_train_scaled = scaler.fit_transform(X_train)\n",
    "X_test_scaled = scaler.transform(X_test)\n",
    "\n",
    "knn = KNeighborsClassifier(n_neighbors=5)\n",
    "\n",
    "knn.fit(X_train_scaled, y_train)\n",
    "y_pred = knn.predict(X_test_scaled)\n",
    "print(\"Accuracy:\", accuracy_score(y_test, y_pred))\n",
    "print(classification_report(y_test, y_pred))"
   ]
  },
  {
   "cell_type": "code",
   "execution_count": 33,
   "metadata": {},
   "outputs": [
    {
     "name": "stdout",
     "output_type": "stream",
     "text": [
      "Accuracy: 0.797066746483089\n",
      "              precision    recall  f1-score   support\n",
      "\n",
      "           0       0.83      0.85      0.84      2083\n",
      "           1       0.74      0.71      0.73      1258\n",
      "\n",
      "    accuracy                           0.80      3341\n",
      "   macro avg       0.78      0.78      0.78      3341\n",
      "weighted avg       0.80      0.80      0.80      3341\n",
      "\n"
     ]
    }
   ],
   "source": [
    "# Remove city as well as street and zipcode which probably has low impact\n",
    "no_street = pd.get_dummies(\n",
    "    real_estate_data.drop([\"Street\", \"Zipcode\", \"City\"], axis=1),\n",
    "    columns=list(\n",
    "        filter(\n",
    "            lambda field: not (\n",
    "                field == \"Street\" or field == \"Zipcode\" or field == \"City\"\n",
    "            ),\n",
    "            STRING_FIELDS,\n",
    "        )\n",
    "    ),\n",
    ")\n",
    "\n",
    "X_train, X_test, y_train, y_test = train_test(no_street)\n",
    "\n",
    "scaler = StandardScaler()\n",
    "X_train_scaled = scaler.fit_transform(X_train)\n",
    "X_test_scaled = scaler.transform(X_test)\n",
    "\n",
    "knn = KNeighborsClassifier(n_neighbors=5)\n",
    "\n",
    "knn.fit(X_train_scaled, y_train)\n",
    "y_pred = knn.predict(X_test_scaled)\n",
    "print(\"Accuracy:\", accuracy_score(y_test, y_pred))\n",
    "print(classification_report(y_test, y_pred))"
   ]
  },
  {
   "cell_type": "code",
   "execution_count": 34,
   "metadata": {},
   "outputs": [
    {
     "name": "stdout",
     "output_type": "stream",
     "text": [
      "Accuracy: 0.8075426519006286\n",
      "              precision    recall  f1-score   support\n",
      "\n",
      "           0       0.84      0.85      0.85      2083\n",
      "           1       0.75      0.73      0.74      1258\n",
      "\n",
      "    accuracy                           0.81      3341\n",
      "   macro avg       0.80      0.79      0.79      3341\n",
      "weighted avg       0.81      0.81      0.81      3341\n",
      "\n"
     ]
    }
   ],
   "source": [
    "# Remove all enum fields\n",
    "no_categorical_fields = real_estate_data.drop(\n",
    "    [\"Street\", \"Zipcode\", \"City\", \"State\"], axis=1\n",
    ")\n",
    "\n",
    "X_train, X_test, y_train, y_test = train_test(no_categorical_fields)\n",
    "\n",
    "scaler = StandardScaler()\n",
    "X_train_scaled = scaler.fit_transform(X_train)\n",
    "X_test_scaled = scaler.transform(X_test)\n",
    "\n",
    "knn = KNeighborsClassifier(n_neighbors=5)\n",
    "\n",
    "knn.fit(X_train_scaled, y_train)\n",
    "y_pred = knn.predict(X_test_scaled)\n",
    "print(\"Accuracy:\", accuracy_score(y_test, y_pred))\n",
    "print(classification_report(y_test, y_pred))"
   ]
  },
  {
   "cell_type": "code",
   "execution_count": 35,
   "metadata": {},
   "outputs": [
    {
     "name": "stdout",
     "output_type": "stream",
     "text": [
      "Accuracy: 0.8075426519006286\n",
      "              precision    recall  f1-score   support\n",
      "\n",
      "           0       0.84      0.85      0.85      2083\n",
      "           1       0.75      0.73      0.74      1258\n",
      "\n",
      "    accuracy                           0.81      3341\n",
      "   macro avg       0.80      0.79      0.79      3341\n",
      "weighted avg       0.81      0.81      0.81      3341\n",
      "\n"
     ]
    }
   ],
   "source": [
    "# Remove all enum fields\n",
    "no_categorical_fields = real_estate_data.drop(\n",
    "    [\"Street\", \"Zipcode\", \"City\", \"State\"], axis=1\n",
    ")\n",
    "\n",
    "X_train, X_test, y_train, y_test = train_test(no_categorical_fields)\n",
    "\n",
    "scaler = StandardScaler()\n",
    "X_train_scaled = scaler.fit_transform(X_train)\n",
    "X_test_scaled = scaler.transform(X_test)\n",
    "\n",
    "knn = KNeighborsClassifier(n_neighbors=5)\n",
    "\n",
    "knn.fit(X_train_scaled, y_train)\n",
    "y_pred = knn.predict(X_test_scaled)\n",
    "print(\"Accuracy:\", accuracy_score(y_test, y_pred))\n",
    "print(classification_report(y_test, y_pred))"
   ]
  },
  {
   "cell_type": "code",
   "execution_count": 36,
   "metadata": {},
   "outputs": [
    {
     "name": "stdout",
     "output_type": "stream",
     "text": [
      "Accuracy: 0.8302903322358576\n",
      "              precision    recall  f1-score   support\n",
      "\n",
      "           0       0.87      0.86      0.86      2083\n",
      "           1       0.77      0.78      0.78      1258\n",
      "\n",
      "    accuracy                           0.83      3341\n",
      "   macro avg       0.82      0.82      0.82      3341\n",
      "weighted avg       0.83      0.83      0.83      3341\n",
      "\n"
     ]
    }
   ],
   "source": [
    "# Continue to remove dimensions to see if it improves the KNN model.\n",
    "\n",
    "less_dimensions = real_estate_data.drop(\n",
    "    [\"Street\", \"Zipcode\", \"City\", \"State\", \"Bedroom\", \"Bathroom\"], axis=1\n",
    ")\n",
    "\n",
    "X_train, X_test, y_train, y_test = train_test(less_dimensions)\n",
    "\n",
    "scaler = StandardScaler()\n",
    "X_train_scaled = scaler.fit_transform(X_train)\n",
    "X_test_scaled = scaler.transform(X_test)\n",
    "\n",
    "knn = KNeighborsClassifier(n_neighbors=5)\n",
    "\n",
    "knn.fit(X_train_scaled, y_train)\n",
    "y_pred = knn.predict(X_test_scaled)\n",
    "print(\"Accuracy:\", accuracy_score(y_test, y_pred))\n",
    "print(classification_report(y_test, y_pred))"
   ]
  },
  {
   "cell_type": "code",
   "execution_count": 37,
   "metadata": {},
   "outputs": [
    {
     "name": "stdout",
     "output_type": "stream",
     "text": [
      "Accuracy: 0.7958695001496557\n",
      "              precision    recall  f1-score   support\n",
      "\n",
      "           0       0.82      0.86      0.84      2083\n",
      "           1       0.74      0.70      0.72      1258\n",
      "\n",
      "    accuracy                           0.80      3341\n",
      "   macro avg       0.78      0.78      0.78      3341\n",
      "weighted avg       0.79      0.80      0.79      3341\n",
      "\n"
     ]
    }
   ],
   "source": [
    "# Will removing longitude and latitude make the model perform worse?\n",
    "\n",
    "no_long_or_lat = less_dimensions.drop([\"Longitude\", \"Latitude\"], axis=1)\n",
    "\n",
    "X_train, X_test, y_train, y_test = train_test(no_long_or_lat)\n",
    "\n",
    "scaler = StandardScaler()\n",
    "X_train_scaled = scaler.fit_transform(X_train)\n",
    "X_test_scaled = scaler.transform(X_test)\n",
    "\n",
    "knn = KNeighborsClassifier(n_neighbors=5)\n",
    "\n",
    "knn.fit(X_train_scaled, y_train)\n",
    "y_pred = knn.predict(X_test_scaled)\n",
    "print(\"Accuracy:\", accuracy_score(y_test, y_pred))\n",
    "print(classification_report(y_test, y_pred))"
   ]
  },
  {
   "cell_type": "code",
   "execution_count": 50,
   "metadata": {},
   "outputs": [
    {
     "data": {
      "image/png": "[encoded data removed]",
      "text/plain": [
       "<Figure size 640x480 with 1 Axes>"
      ]
     },
     "metadata": {},
     "output_type": "display_data"
    },
    {
     "name": "stdout",
     "output_type": "stream",
     "text": [
      "              precision    recall  f1-score   support\n",
      "\n",
      "           0       0.87      0.88      0.87      2083\n",
      "           1       0.80      0.78      0.79      1258\n",
      "\n",
      "    accuracy                           0.84      3341\n",
      "   macro avg       0.83      0.83      0.83      3341\n",
      "weighted avg       0.84      0.84      0.84      3341\n",
      "\n"
     ]
    }
   ],
   "source": [
    "import matplotlib.pyplot as plt\n",
    "\n",
    "# With the best performing train and test let's see how different number of neighbors affects the results\n",
    "\n",
    "X_train, X_test, y_train, y_test = train_test(less_dimensions)\n",
    "\n",
    "scaler = StandardScaler()\n",
    "X_train_scaled = scaler.fit_transform(X_train)\n",
    "X_test_scaled = scaler.transform(X_test)\n",
    "\n",
    "neighbor_values = [1, 2, 5, 6, 10, 12, 18, 19, 20, 25, 30, 35, 50, 100]\n",
    "\n",
    "best_accuracy_score = -99999\n",
    "best_accuracy_report = None\n",
    "accuracy_scores = []\n",
    "for nun_neighbors in neighbor_values:\n",
    "    knn = KNeighborsClassifier(n_neighbors=nun_neighbors)\n",
    "\n",
    "    knn.fit(X_train_scaled, y_train)\n",
    "    y_pred = knn.predict(X_test_scaled)\n",
    "    accuracy = accuracy_score(y_test, y_pred)\n",
    "    accuracy_scores.append(accuracy)\n",
    "    if accuracy > best_accuracy_score:\n",
    "        best_accuracy_score = accuracy\n",
    "        best_accuracy_report = classification_report(y_test, y_pred)\n",
    "\n",
    "plt.plot(neighbor_values, accuracy_scores)\n",
    "plt.xlabel(\"Number of Neighbors\")\n",
    "plt.ylabel(\"Score\")\n",
    "plt.show()\n",
    "\n",
    "print(best_accuracy_report)"
   ]
  },
  {
   "cell_type": "markdown",
   "metadata": {},
   "source": [
    "# SVN\n"
   ]
  }
 ],
 "metadata": {
  "kernelspec": {
   "display_name": "Python 3",
   "language": "python",
   "name": "python3"
  },
  "language_info": {
   "codemirror_mode": {
    "name": "ipython",
    "version": 3
   },
   "file_extension": ".py",
   "mimetype": "text/x-python",
   "name": "python",
   "nbconvert_exporter": "python",
   "pygments_lexer": "ipython3",
   "version": "3.11.6"
  }
 },
 "nbformat": 4,
 "nbformat_minor": 2
}
